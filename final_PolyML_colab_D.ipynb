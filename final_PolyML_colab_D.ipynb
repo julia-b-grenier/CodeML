{
  "nbformat": 4,
  "nbformat_minor": 0,
  "metadata": {
    "colab": {
      "provenance": [],
      "collapsed_sections": [],
      "include_colab_link": true
    },
    "kernelspec": {
      "name": "python3",
      "display_name": "Python 3"
    },
    "language_info": {
      "name": "python"
    }
  },
  "cells": [
    {
      "cell_type": "markdown",
      "metadata": {
        "id": "view-in-github",
        "colab_type": "text"
      },
      "source": [
        "<a href=\"https://colab.research.google.com/github/julia-b-grenier/CodeML/blob/main/final_PolyML_colab_D.ipynb\" target=\"_parent\"><img src=\"https://colab.research.google.com/assets/colab-badge.svg\" alt=\"Open In Colab\"/></a>"
      ]
    },
    {
      "cell_type": "code",
      "execution_count": null,
      "metadata": {
        "id": "YuGKOz2Xw2y_"
      },
      "outputs": [],
      "source": [
        "import pandas\n",
        "from sklearn.naive_bayes import GaussianNB\n",
        "from sklearn.metrics import f1_score\n",
        "\n",
        "# imports the table\n",
        "dlearn = pandas.read_csv(\"/content/participants_dataset.csv\")\n",
        "\n",
        "# replaces the NaN in BMI by the most frequent value, less accurate\n",
        "# dlearn[\"bmi\"].fillna(dlearn[\"bmi\"].value_counts().index[0], inplace=True)\n",
        "\n",
        "# replaces the NaN in BMI by the average if the bmi, more accurate\n",
        "dlearn['bmi'] = dlearn['bmi'].fillna(dlearn['bmi'].mean())\n",
        "\n",
        "# we also worked on an AI that would replace the missing BMIs based on the other data (AI-ception let's goo)\n",
        "# the file that we use is the 'corrected' version, but we also left two other methods we used,\n",
        "#     finding the average and the most frequent value, but it was missing ID's at the end so we coudldn't submit :(\n",
        "\n",
        "# divides the big table into 2, the one to learn (dlearn) and the one to test (dlearn_submit)\n",
        "dlearn_submit = dlearn[dlearn['label'].isna()]\n",
        "\n",
        "# replaces the String by int for each column\n",
        "dlearn = dlearn.replace({\"gender\":\"Male\"},1)\n",
        "dlearn = dlearn.replace({\"gender\":\"Female\"},0)\n",
        "dlearn = dlearn.replace({\"gender\":\"Other\"},2)\n",
        "dlearn = dlearn.replace({\"ever_married\":\"Yes\"},1)\n",
        "dlearn = dlearn.replace({\"ever_married\":\"No\"},0)\n",
        "dlearn = dlearn.replace({\"work_type\":\"Self-employed\"},0)\n",
        "dlearn = dlearn.replace({\"work_type\":\"Private\"},1)\n",
        "dlearn = dlearn.replace({\"work_type\":\"Govt_job\"},2)\n",
        "dlearn = dlearn.replace({\"work_type\":\"children\"},3)\n",
        "dlearn = dlearn.replace({\"work_type\":\"Never_worked\"},3)\n",
        "dlearn = dlearn.replace({\"Residence_type\":\"Urban\"},0)\n",
        "dlearn = dlearn.replace({\"Residence_type\":\"Rural\"},1)\n",
        "dlearn = dlearn.replace({\"smoking_status\":\"never smoked\"},0)\n",
        "dlearn = dlearn.replace({\"smoking_status\":\"formerly smoked\"},1)\n",
        "dlearn = dlearn.replace({\"smoking_status\":\"smokes\"},2)\n",
        "dlearn = dlearn.replace({\"smoking_status\":\"Unknown\"},3)\n",
        "\n",
        "# creates X variable for both tables\n",
        "X = dlearn.drop(\"ID\", axis=1)\n",
        "\n",
        "# creates the X and Y variables for the learning part\n",
        "X1 = X.loc[(X[\"label\"] == 1)| (X[\"label\"] == 0)]\n",
        "Y1 = X1[\"label\"]\n",
        "X1 = X1.iloc[:,:-1] "
      ]
    },
    {
      "cell_type": "code",
      "source": [
        "from sklearn.ensemble import RandomForestClassifier\n",
        "from sklearn.datasets import make_classification"
      ],
      "metadata": {
        "id": "s34vHiAt02xy"
      },
      "execution_count": null,
      "outputs": []
    },
    {
      "cell_type": "code",
      "source": [
        "# implements the classifier, trains de AI and prints the f1 score for funsies\n",
        "rfc = RandomForestClassifier(max_depth=10, random_state=5)\n",
        "rfc.fit(X1, Y1)\n",
        "y_pred = rfc.predict(X1)\n",
        "print(f1_score(Y1, y_pred, average='macro'))"
      ],
      "metadata": {
        "colab": {
          "base_uri": "https://localhost:8080/"
        },
        "id": "L_Ad4AZr0crt",
        "outputId": "66ff6b25-727f-4983-b240-17bf674e3910"
      },
      "execution_count": null,
      "outputs": [
        {
          "output_type": "stream",
          "name": "stdout",
          "text": [
            "0.9226946378135988\n"
          ]
        }
      ]
    },
    {
      "cell_type": "code",
      "source": [
        "# creates the X and Y variables for the testing part\n",
        "X2 = X.loc[(X[\"label\"].isna())]\n",
        "Y2 = X2[\"label\"]\n",
        "X2 = X2.iloc[:,:-1]\n",
        "\n",
        "# does the testing and casts to int\n",
        "Y2 = rfc.predict(X2)\n",
        "Y2 = Y2.astype(int)\n",
        "dlearn_submit['label'] = Y2"
      ],
      "metadata": {
        "id": "ScYEBjhP0iGi"
      },
      "execution_count": null,
      "outputs": []
    },
    {
      "cell_type": "code",
      "source": [
        "# exports the file as a zipzip\n",
        "compression_opts = dict(method='zip',\n",
        "                               archive_name='out.csv')\n",
        "dlearn_submit.to_csv('out.zip', index=False,\n",
        "              compression=compression_opts)"
      ],
      "metadata": {
        "id": "NwVFx_9S1ppl"
      },
      "execution_count": null,
      "outputs": []
    }
  ]
}