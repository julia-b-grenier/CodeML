{
 "cells": [
  {
   "cell_type": "code",
   "execution_count": 1,
   "id": "2224e0b2",
   "metadata": {},
   "outputs": [],
   "source": [
    "import pandas as pd\n",
    "import numpy as np\n",
    "from sklearn.preprocessing import StandardScaler\n",
    "from sklearn.metrics import classification_report"
   ]
  },
  {
   "cell_type": "markdown",
   "id": "35ec3a37",
   "metadata": {},
   "source": [
    "### Load dataframe and separate it into train and test"
   ]
  },
  {
   "cell_type": "code",
   "execution_count": 2,
   "id": "0a284d2c",
   "metadata": {},
   "outputs": [
    {
     "data": {
      "text/html": [
       "<div>\n",
       "<style scoped>\n",
       "    .dataframe tbody tr th:only-of-type {\n",
       "        vertical-align: middle;\n",
       "    }\n",
       "\n",
       "    .dataframe tbody tr th {\n",
       "        vertical-align: top;\n",
       "    }\n",
       "\n",
       "    .dataframe thead th {\n",
       "        text-align: right;\n",
       "    }\n",
       "</style>\n",
       "<table border=\"1\" class=\"dataframe\">\n",
       "  <thead>\n",
       "    <tr style=\"text-align: right;\">\n",
       "      <th></th>\n",
       "      <th>gender</th>\n",
       "      <th>age</th>\n",
       "      <th>hypertension</th>\n",
       "      <th>heart_disease</th>\n",
       "      <th>ever_married</th>\n",
       "      <th>work_type</th>\n",
       "      <th>Residence_type</th>\n",
       "      <th>avg_glucose_level</th>\n",
       "      <th>bmi</th>\n",
       "      <th>smoking_status</th>\n",
       "      <th>label</th>\n",
       "    </tr>\n",
       "    <tr>\n",
       "      <th>ID</th>\n",
       "      <th></th>\n",
       "      <th></th>\n",
       "      <th></th>\n",
       "      <th></th>\n",
       "      <th></th>\n",
       "      <th></th>\n",
       "      <th></th>\n",
       "      <th></th>\n",
       "      <th></th>\n",
       "      <th></th>\n",
       "      <th></th>\n",
       "    </tr>\n",
       "  </thead>\n",
       "  <tbody>\n",
       "    <tr>\n",
       "      <th>55407</th>\n",
       "      <td>Female</td>\n",
       "      <td>47.0</td>\n",
       "      <td>0</td>\n",
       "      <td>0</td>\n",
       "      <td>Yes</td>\n",
       "      <td>Private</td>\n",
       "      <td>Urban</td>\n",
       "      <td>93.18</td>\n",
       "      <td>42.6</td>\n",
       "      <td>formerly smoked</td>\n",
       "      <td>0.0</td>\n",
       "    </tr>\n",
       "    <tr>\n",
       "      <th>56075</th>\n",
       "      <td>Female</td>\n",
       "      <td>58.0</td>\n",
       "      <td>0</td>\n",
       "      <td>0</td>\n",
       "      <td>Yes</td>\n",
       "      <td>Private</td>\n",
       "      <td>Rural</td>\n",
       "      <td>196.50</td>\n",
       "      <td>37.7</td>\n",
       "      <td>never smoked</td>\n",
       "      <td>0.0</td>\n",
       "    </tr>\n",
       "    <tr>\n",
       "      <th>22939</th>\n",
       "      <td>Female</td>\n",
       "      <td>22.0</td>\n",
       "      <td>0</td>\n",
       "      <td>0</td>\n",
       "      <td>No</td>\n",
       "      <td>Private</td>\n",
       "      <td>Rural</td>\n",
       "      <td>80.72</td>\n",
       "      <td>29.3</td>\n",
       "      <td>Unknown</td>\n",
       "      <td>0.0</td>\n",
       "    </tr>\n",
       "    <tr>\n",
       "      <th>62681</th>\n",
       "      <td>Female</td>\n",
       "      <td>38.0</td>\n",
       "      <td>1</td>\n",
       "      <td>0</td>\n",
       "      <td>Yes</td>\n",
       "      <td>Private</td>\n",
       "      <td>Urban</td>\n",
       "      <td>137.94</td>\n",
       "      <td>41.8</td>\n",
       "      <td>never smoked</td>\n",
       "      <td>0.0</td>\n",
       "    </tr>\n",
       "    <tr>\n",
       "      <th>57539</th>\n",
       "      <td>Female</td>\n",
       "      <td>68.0</td>\n",
       "      <td>0</td>\n",
       "      <td>0</td>\n",
       "      <td>Yes</td>\n",
       "      <td>Private</td>\n",
       "      <td>Rural</td>\n",
       "      <td>233.59</td>\n",
       "      <td>43.9</td>\n",
       "      <td>never smoked</td>\n",
       "      <td>0.0</td>\n",
       "    </tr>\n",
       "  </tbody>\n",
       "</table>\n",
       "</div>"
      ],
      "text/plain": [
       "       gender   age  hypertension  heart_disease ever_married work_type  \\\n",
       "ID                                                                        \n",
       "55407  Female  47.0             0              0          Yes   Private   \n",
       "56075  Female  58.0             0              0          Yes   Private   \n",
       "22939  Female  22.0             0              0           No   Private   \n",
       "62681  Female  38.0             1              0          Yes   Private   \n",
       "57539  Female  68.0             0              0          Yes   Private   \n",
       "\n",
       "      Residence_type  avg_glucose_level   bmi   smoking_status  label  \n",
       "ID                                                                     \n",
       "55407          Urban              93.18  42.6  formerly smoked    0.0  \n",
       "56075          Rural             196.50  37.7     never smoked    0.0  \n",
       "22939          Rural              80.72  29.3          Unknown    0.0  \n",
       "62681          Urban             137.94  41.8     never smoked    0.0  \n",
       "57539          Rural             233.59  43.9     never smoked    0.0  "
      ]
     },
     "execution_count": 2,
     "metadata": {},
     "output_type": "execute_result"
    }
   ],
   "source": [
    "all_df = pd.read_csv(\"participants_dataset.csv\", index_col=0)\n",
    "all_df.head()"
   ]
  },
  {
   "cell_type": "code",
   "execution_count": 3,
   "id": "9a9249ee",
   "metadata": {},
   "outputs": [
    {
     "data": {
      "text/plain": [
       "Female    3627\n",
       "Male      2627\n",
       "Other        1\n",
       "Name: gender, dtype: int64"
      ]
     },
     "execution_count": 3,
     "metadata": {},
     "output_type": "execute_result"
    }
   ],
   "source": [
    "all_df['gender'].value_counts()"
   ]
  },
  {
   "cell_type": "code",
   "execution_count": 4,
   "id": "21ad50c0",
   "metadata": {},
   "outputs": [],
   "source": [
    "all_df.loc[all_df.gender == 'Male', 'gender'] = 0\n",
    "all_df.loc[all_df.gender == 'Female', 'gender'] = 1\n",
    "all_df.loc[all_df.gender == 'Other', 'gender'] = 1"
   ]
  },
  {
   "cell_type": "code",
   "execution_count": 5,
   "id": "da9d61d5",
   "metadata": {},
   "outputs": [
    {
     "data": {
      "text/plain": [
       "Yes    4414\n",
       "No     1841\n",
       "Name: ever_married, dtype: int64"
      ]
     },
     "execution_count": 5,
     "metadata": {},
     "output_type": "execute_result"
    }
   ],
   "source": [
    "all_df['ever_married'].value_counts()"
   ]
  },
  {
   "cell_type": "code",
   "execution_count": 6,
   "id": "f4329228",
   "metadata": {},
   "outputs": [],
   "source": [
    "all_df.loc[all_df.ever_married == 'Yes', 'ever_married'] = 0\n",
    "all_df.loc[all_df.ever_married == 'No', 'ever_married'] = 1"
   ]
  },
  {
   "cell_type": "code",
   "execution_count": 7,
   "id": "0a7671a5",
   "metadata": {},
   "outputs": [
    {
     "data": {
      "text/plain": [
       "Private          3561\n",
       "Self-employed    1232\n",
       "Govt_job          753\n",
       "children          687\n",
       "Never_worked       22\n",
       "Name: work_type, dtype: int64"
      ]
     },
     "execution_count": 7,
     "metadata": {},
     "output_type": "execute_result"
    }
   ],
   "source": [
    "all_df['work_type'].value_counts()"
   ]
  },
  {
   "cell_type": "code",
   "execution_count": 8,
   "id": "e7836e4a",
   "metadata": {},
   "outputs": [],
   "source": [
    "all_df.loc[all_df.work_type == 'Private', 'work_type'] = 0\n",
    "all_df.loc[all_df.work_type == 'Self-employed', 'work_type'] = 1\n",
    "all_df.loc[all_df.work_type == 'Govt_job', 'work_type'] = 2\n",
    "all_df.loc[all_df.work_type == 'children', 'work_type'] = 3\n",
    "all_df.loc[all_df.work_type == 'Never_worked', 'work_type'] = 4"
   ]
  },
  {
   "cell_type": "code",
   "execution_count": 9,
   "id": "0d7c8c2e",
   "metadata": {},
   "outputs": [
    {
     "data": {
      "text/plain": [
       "Urban    3163\n",
       "Rural    3092\n",
       "Name: Residence_type, dtype: int64"
      ]
     },
     "execution_count": 9,
     "metadata": {},
     "output_type": "execute_result"
    }
   ],
   "source": [
    "all_df['Residence_type'].value_counts()"
   ]
  },
  {
   "cell_type": "code",
   "execution_count": 10,
   "id": "e480a5a5",
   "metadata": {},
   "outputs": [],
   "source": [
    "all_df.loc[all_df.Residence_type == 'Urban', 'Residence_type'] = 0\n",
    "all_df.loc[all_df.Residence_type == 'Rural', 'Residence_type'] = 1"
   ]
  },
  {
   "cell_type": "code",
   "execution_count": 11,
   "id": "4191eb0a",
   "metadata": {},
   "outputs": [
    {
     "data": {
      "text/plain": [
       "never smoked       2358\n",
       "Unknown            1735\n",
       "formerly smoked    1199\n",
       "smokes              963\n",
       "Name: smoking_status, dtype: int64"
      ]
     },
     "execution_count": 11,
     "metadata": {},
     "output_type": "execute_result"
    }
   ],
   "source": [
    "all_df['smoking_status'].value_counts()"
   ]
  },
  {
   "cell_type": "code",
   "execution_count": 12,
   "id": "9a9bec84",
   "metadata": {},
   "outputs": [],
   "source": [
    "all_df.loc[all_df.smoking_status == 'never smoked', 'smoking_status'] = 0\n",
    "all_df.loc[all_df.smoking_status == 'Unknown', 'smoking_status'] = 1\n",
    "all_df.loc[all_df.smoking_status == 'formerly smoked', 'smoking_status'] = 2\n",
    "all_df.loc[all_df.smoking_status == 'smokes', 'smoking_status'] = 3"
   ]
  },
  {
   "cell_type": "code",
   "execution_count": 13,
   "id": "e1211b85",
   "metadata": {},
   "outputs": [
    {
     "data": {
      "text/html": [
       "<div>\n",
       "<style scoped>\n",
       "    .dataframe tbody tr th:only-of-type {\n",
       "        vertical-align: middle;\n",
       "    }\n",
       "\n",
       "    .dataframe tbody tr th {\n",
       "        vertical-align: top;\n",
       "    }\n",
       "\n",
       "    .dataframe thead th {\n",
       "        text-align: right;\n",
       "    }\n",
       "</style>\n",
       "<table border=\"1\" class=\"dataframe\">\n",
       "  <thead>\n",
       "    <tr style=\"text-align: right;\">\n",
       "      <th></th>\n",
       "      <th>gender</th>\n",
       "      <th>age</th>\n",
       "      <th>hypertension</th>\n",
       "      <th>heart_disease</th>\n",
       "      <th>ever_married</th>\n",
       "      <th>work_type</th>\n",
       "      <th>Residence_type</th>\n",
       "      <th>avg_glucose_level</th>\n",
       "      <th>bmi</th>\n",
       "      <th>smoking_status</th>\n",
       "      <th>label</th>\n",
       "    </tr>\n",
       "    <tr>\n",
       "      <th>ID</th>\n",
       "      <th></th>\n",
       "      <th></th>\n",
       "      <th></th>\n",
       "      <th></th>\n",
       "      <th></th>\n",
       "      <th></th>\n",
       "      <th></th>\n",
       "      <th></th>\n",
       "      <th></th>\n",
       "      <th></th>\n",
       "      <th></th>\n",
       "    </tr>\n",
       "  </thead>\n",
       "  <tbody>\n",
       "    <tr>\n",
       "      <th>55407</th>\n",
       "      <td>1</td>\n",
       "      <td>47.0</td>\n",
       "      <td>0</td>\n",
       "      <td>0</td>\n",
       "      <td>0</td>\n",
       "      <td>0</td>\n",
       "      <td>0</td>\n",
       "      <td>93.18</td>\n",
       "      <td>42.6</td>\n",
       "      <td>2</td>\n",
       "      <td>0.0</td>\n",
       "    </tr>\n",
       "    <tr>\n",
       "      <th>56075</th>\n",
       "      <td>1</td>\n",
       "      <td>58.0</td>\n",
       "      <td>0</td>\n",
       "      <td>0</td>\n",
       "      <td>0</td>\n",
       "      <td>0</td>\n",
       "      <td>1</td>\n",
       "      <td>196.50</td>\n",
       "      <td>37.7</td>\n",
       "      <td>0</td>\n",
       "      <td>0.0</td>\n",
       "    </tr>\n",
       "    <tr>\n",
       "      <th>22939</th>\n",
       "      <td>1</td>\n",
       "      <td>22.0</td>\n",
       "      <td>0</td>\n",
       "      <td>0</td>\n",
       "      <td>1</td>\n",
       "      <td>0</td>\n",
       "      <td>1</td>\n",
       "      <td>80.72</td>\n",
       "      <td>29.3</td>\n",
       "      <td>1</td>\n",
       "      <td>0.0</td>\n",
       "    </tr>\n",
       "    <tr>\n",
       "      <th>62681</th>\n",
       "      <td>1</td>\n",
       "      <td>38.0</td>\n",
       "      <td>1</td>\n",
       "      <td>0</td>\n",
       "      <td>0</td>\n",
       "      <td>0</td>\n",
       "      <td>0</td>\n",
       "      <td>137.94</td>\n",
       "      <td>41.8</td>\n",
       "      <td>0</td>\n",
       "      <td>0.0</td>\n",
       "    </tr>\n",
       "    <tr>\n",
       "      <th>57539</th>\n",
       "      <td>1</td>\n",
       "      <td>68.0</td>\n",
       "      <td>0</td>\n",
       "      <td>0</td>\n",
       "      <td>0</td>\n",
       "      <td>0</td>\n",
       "      <td>1</td>\n",
       "      <td>233.59</td>\n",
       "      <td>43.9</td>\n",
       "      <td>0</td>\n",
       "      <td>0.0</td>\n",
       "    </tr>\n",
       "  </tbody>\n",
       "</table>\n",
       "</div>"
      ],
      "text/plain": [
       "      gender   age  hypertension  heart_disease ever_married work_type  \\\n",
       "ID                                                                       \n",
       "55407      1  47.0             0              0            0         0   \n",
       "56075      1  58.0             0              0            0         0   \n",
       "22939      1  22.0             0              0            1         0   \n",
       "62681      1  38.0             1              0            0         0   \n",
       "57539      1  68.0             0              0            0         0   \n",
       "\n",
       "      Residence_type  avg_glucose_level   bmi smoking_status  label  \n",
       "ID                                                                   \n",
       "55407              0              93.18  42.6              2    0.0  \n",
       "56075              1             196.50  37.7              0    0.0  \n",
       "22939              1              80.72  29.3              1    0.0  \n",
       "62681              0             137.94  41.8              0    0.0  \n",
       "57539              1             233.59  43.9              0    0.0  "
      ]
     },
     "execution_count": 13,
     "metadata": {},
     "output_type": "execute_result"
    }
   ],
   "source": [
    "all_df.head()"
   ]
  },
  {
   "cell_type": "code",
   "execution_count": 14,
   "id": "845f4fb5",
   "metadata": {},
   "outputs": [],
   "source": [
    "train_df = all_df[np.isnan(all_df[\"label\"])==False]\n",
    "test_df = all_df[np.isnan(all_df[\"label\"])]"
   ]
  },
  {
   "cell_type": "code",
   "execution_count": 15,
   "id": "b797977c",
   "metadata": {},
   "outputs": [
    {
     "name": "stdout",
     "output_type": "stream",
     "text": [
      "train df has shape (5004, 11) and test df has shape (1251, 11)\n"
     ]
    }
   ],
   "source": [
    "print(f\"train df has shape {train_df.shape} and test df has shape {test_df.shape}\")"
   ]
  },
  {
   "cell_type": "markdown",
   "id": "c9db2d6e",
   "metadata": {},
   "source": [
    "### Define and train model on train_df"
   ]
  },
  {
   "cell_type": "code",
   "execution_count": 16,
   "id": "10dca390",
   "metadata": {},
   "outputs": [],
   "source": [
    "standard_scaler = StandardScaler()\n",
    "x_train = standard_scaler.fit_transform(train_df.iloc[:,:-1])\n",
    "y_train = np.array(train_df[\"label\"])"
   ]
  },
  {
   "cell_type": "code",
   "execution_count": 17,
   "id": "aed03fc8",
   "metadata": {},
   "outputs": [
    {
     "data": {
      "text/plain": [
       "XGBClassifier(base_score=0.5, booster='gbtree', callbacks=None,\n",
       "              colsample_bylevel=1, colsample_bynode=1, colsample_bytree=1,\n",
       "              early_stopping_rounds=None, enable_categorical=False,\n",
       "              eval_metric=None, gamma=0, gpu_id=-1, grow_policy='depthwise',\n",
       "              importance_type=None, interaction_constraints='',\n",
       "              learning_rate=0.300000012, max_bin=256, max_cat_to_onehot=4,\n",
       "              max_delta_step=0, max_depth=6, max_leaves=0, min_child_weight=1,\n",
       "              missing=nan, monotone_constraints='()', n_estimators=100,\n",
       "              n_jobs=0, num_parallel_tree=1, predictor='auto', random_state=0,\n",
       "              reg_alpha=0, reg_lambda=1, ...)"
      ]
     },
     "execution_count": 17,
     "metadata": {},
     "output_type": "execute_result"
    }
   ],
   "source": [
    "from xgboost import XGBClassifier\n",
    "model_xgb = XGBClassifier()\n",
    "model_xgb.fit(x_train, y_train)"
   ]
  },
  {
   "cell_type": "markdown",
   "id": "415f3ba8",
   "metadata": {},
   "source": [
    "### Score model based on training data"
   ]
  },
  {
   "cell_type": "code",
   "execution_count": 18,
   "id": "1a8bff0a",
   "metadata": {},
   "outputs": [],
   "source": [
    "y_pred = model_xgb.predict(x_train)"
   ]
  },
  {
   "cell_type": "code",
   "execution_count": 19,
   "id": "9c95beb8",
   "metadata": {},
   "outputs": [
    {
     "name": "stdout",
     "output_type": "stream",
     "text": [
      "              precision    recall  f1-score   support\n",
      "\n",
      "         0.0       0.96      0.99      0.98      3877\n",
      "         1.0       0.97      0.86      0.91      1127\n",
      "\n",
      "    accuracy                           0.96      5004\n",
      "   macro avg       0.97      0.93      0.95      5004\n",
      "weighted avg       0.96      0.96      0.96      5004\n",
      "\n"
     ]
    }
   ],
   "source": [
    "cr = classification_report(y_train, y_pred)\n",
    "print(cr)"
   ]
  },
  {
   "cell_type": "markdown",
   "id": "55a5a4d7",
   "metadata": {},
   "source": [
    "### Apply model on test data"
   ]
  },
  {
   "cell_type": "code",
   "execution_count": 20,
   "id": "96be208b",
   "metadata": {},
   "outputs": [],
   "source": [
    "x_test = standard_scaler.transform(test_df.iloc[:,:-1])"
   ]
  },
  {
   "cell_type": "code",
   "execution_count": 21,
   "id": "26a0ef7b",
   "metadata": {},
   "outputs": [],
   "source": [
    "y_pred = model_xgb.predict(x_test)"
   ]
  },
  {
   "cell_type": "code",
   "execution_count": 22,
   "id": "b055fba4",
   "metadata": {},
   "outputs": [],
   "source": [
    "new_test_df = test_df.copy(deep=True)\n",
    "new_test_df[\"label\"] = y_pred"
   ]
  },
  {
   "cell_type": "code",
   "execution_count": 23,
   "id": "c7fae694",
   "metadata": {},
   "outputs": [],
   "source": [
    "new_test_df.to_csv(\"Stroke_submission.csv\")"
   ]
  }
 ],
 "metadata": {
  "kernelspec": {
   "display_name": "Python 3 (ipykernel)",
   "language": "python",
   "name": "python3"
  },
  "language_info": {
   "codemirror_mode": {
    "name": "ipython",
    "version": 3
   },
   "file_extension": ".py",
   "mimetype": "text/x-python",
   "name": "python",
   "nbconvert_exporter": "python",
   "pygments_lexer": "ipython3",
   "version": "3.9.7"
  }
 },
 "nbformat": 4,
 "nbformat_minor": 5
}
