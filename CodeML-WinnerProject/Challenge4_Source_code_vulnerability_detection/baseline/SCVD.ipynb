{
 "cells": [
  {
   "cell_type": "code",
   "execution_count": 33,
   "id": "60ba7e8b",
   "metadata": {},
   "outputs": [],
   "source": [
    "import pandas as pd\n",
    "import numpy as np\n",
    "import sklearn.metrics\n",
    "from nltk.tokenize import word_tokenize\n",
    "from sklearn.neural_network import MLPClassifier\n",
    "from gensim.models.doc2vec import Doc2Vec, TaggedDocument\n",
    "from gensim.models.callbacks import CallbackAny2Vec\n",
    "\n",
    "from tqdm import tqdm"
   ]
  },
  {
   "cell_type": "markdown",
   "id": "7ed8ff77",
   "metadata": {},
   "source": [
    "### Load dataframe and separate it into train and test"
   ]
  },
  {
   "cell_type": "code",
   "execution_count": 7,
   "id": "337973ee",
   "metadata": {},
   "outputs": [
    {
     "data": {
      "text/html": [
       "<div>\n",
       "<style scoped>\n",
       "    .dataframe tbody tr th:only-of-type {\n",
       "        vertical-align: middle;\n",
       "    }\n",
       "\n",
       "    .dataframe tbody tr th {\n",
       "        vertical-align: top;\n",
       "    }\n",
       "\n",
       "    .dataframe thead th {\n",
       "        text-align: right;\n",
       "    }\n",
       "</style>\n",
       "<table border=\"1\" class=\"dataframe\">\n",
       "  <thead>\n",
       "    <tr style=\"text-align: right;\">\n",
       "      <th></th>\n",
       "      <th>function_source</th>\n",
       "      <th>CWE-119</th>\n",
       "      <th>CWE-120</th>\n",
       "      <th>CWE-476</th>\n",
       "      <th>CWE-468</th>\n",
       "      <th>CWE-other</th>\n",
       "    </tr>\n",
       "    <tr>\n",
       "      <th>ID</th>\n",
       "      <th></th>\n",
       "      <th></th>\n",
       "      <th></th>\n",
       "      <th></th>\n",
       "      <th></th>\n",
       "      <th></th>\n",
       "    </tr>\n",
       "  </thead>\n",
       "  <tbody>\n",
       "    <tr>\n",
       "      <th>0</th>\n",
       "      <td>value_new(const struct berval *bval,CSNType t,...</td>\n",
       "      <td>0.0</td>\n",
       "      <td>0.0</td>\n",
       "      <td>0.0</td>\n",
       "      <td>0.0</td>\n",
       "      <td>0.0</td>\n",
       "    </tr>\n",
       "    <tr>\n",
       "      <th>1</th>\n",
       "      <td>gpk_application_remove_packages_cb (PkTask *ta...</td>\n",
       "      <td>0.0</td>\n",
       "      <td>0.0</td>\n",
       "      <td>0.0</td>\n",
       "      <td>0.0</td>\n",
       "      <td>0.0</td>\n",
       "    </tr>\n",
       "    <tr>\n",
       "      <th>2</th>\n",
       "      <td>gen_solo_work(struct pool *pool, struct work *...</td>\n",
       "      <td>1.0</td>\n",
       "      <td>1.0</td>\n",
       "      <td>0.0</td>\n",
       "      <td>0.0</td>\n",
       "      <td>0.0</td>\n",
       "    </tr>\n",
       "    <tr>\n",
       "      <th>3</th>\n",
       "      <td>main(int argc, char *argv[])\\n{\\n\\tFILE * infi...</td>\n",
       "      <td>0.0</td>\n",
       "      <td>0.0</td>\n",
       "      <td>0.0</td>\n",
       "      <td>0.0</td>\n",
       "      <td>1.0</td>\n",
       "    </tr>\n",
       "    <tr>\n",
       "      <th>4</th>\n",
       "      <td>getMoveActions( const QModelIndexList &amp;indices...</td>\n",
       "      <td>0.0</td>\n",
       "      <td>0.0</td>\n",
       "      <td>0.0</td>\n",
       "      <td>0.0</td>\n",
       "      <td>0.0</td>\n",
       "    </tr>\n",
       "  </tbody>\n",
       "</table>\n",
       "</div>"
      ],
      "text/plain": [
       "                                      function_source  CWE-119  CWE-120  \\\n",
       "ID                                                                        \n",
       "0   value_new(const struct berval *bval,CSNType t,...      0.0      0.0   \n",
       "1   gpk_application_remove_packages_cb (PkTask *ta...      0.0      0.0   \n",
       "2   gen_solo_work(struct pool *pool, struct work *...      1.0      1.0   \n",
       "3   main(int argc, char *argv[])\\n{\\n\\tFILE * infi...      0.0      0.0   \n",
       "4   getMoveActions( const QModelIndexList &indices...      0.0      0.0   \n",
       "\n",
       "    CWE-476  CWE-468  CWE-other  \n",
       "ID                               \n",
       "0       0.0      0.0        0.0  \n",
       "1       0.0      0.0        0.0  \n",
       "2       0.0      0.0        0.0  \n",
       "3       0.0      0.0        1.0  \n",
       "4       0.0      0.0        0.0  "
      ]
     },
     "execution_count": 7,
     "metadata": {},
     "output_type": "execute_result"
    }
   ],
   "source": [
    "all_df = pd.read_csv(\"participants_dataset.csv\", index_col=0)\n",
    "all_df.head()"
   ]
  },
  {
   "cell_type": "code",
   "execution_count": 8,
   "id": "e36e1ac7",
   "metadata": {},
   "outputs": [
    {
     "data": {
      "text/html": [
       "<div>\n",
       "<style scoped>\n",
       "    .dataframe tbody tr th:only-of-type {\n",
       "        vertical-align: middle;\n",
       "    }\n",
       "\n",
       "    .dataframe tbody tr th {\n",
       "        vertical-align: top;\n",
       "    }\n",
       "\n",
       "    .dataframe thead th {\n",
       "        text-align: right;\n",
       "    }\n",
       "</style>\n",
       "<table border=\"1\" class=\"dataframe\">\n",
       "  <thead>\n",
       "    <tr style=\"text-align: right;\">\n",
       "      <th></th>\n",
       "      <th>function_source</th>\n",
       "      <th>CWE-119</th>\n",
       "      <th>CWE-120</th>\n",
       "      <th>CWE-476</th>\n",
       "      <th>CWE-468</th>\n",
       "      <th>CWE-other</th>\n",
       "    </tr>\n",
       "    <tr>\n",
       "      <th>ID</th>\n",
       "      <th></th>\n",
       "      <th></th>\n",
       "      <th></th>\n",
       "      <th></th>\n",
       "      <th></th>\n",
       "      <th></th>\n",
       "    </tr>\n",
       "  </thead>\n",
       "  <tbody>\n",
       "    <tr>\n",
       "      <th>105225</th>\n",
       "      <td>bcm_setup(struct hci_uart *hu)\\n{\\n\\tstruct bc...</td>\n",
       "      <td>NaN</td>\n",
       "      <td>NaN</td>\n",
       "      <td>NaN</td>\n",
       "      <td>NaN</td>\n",
       "      <td>NaN</td>\n",
       "    </tr>\n",
       "    <tr>\n",
       "      <th>105226</th>\n",
       "      <td>save_timeservers(char **servers)\\n{\\n\\tGKeyFil...</td>\n",
       "      <td>NaN</td>\n",
       "      <td>NaN</td>\n",
       "      <td>NaN</td>\n",
       "      <td>NaN</td>\n",
       "      <td>NaN</td>\n",
       "    </tr>\n",
       "    <tr>\n",
       "      <th>105227</th>\n",
       "      <td>lang_optimistic_scan(input_ty *fp, string_list...</td>\n",
       "      <td>NaN</td>\n",
       "      <td>NaN</td>\n",
       "      <td>NaN</td>\n",
       "      <td>NaN</td>\n",
       "      <td>NaN</td>\n",
       "    </tr>\n",
       "    <tr>\n",
       "      <th>105228</th>\n",
       "      <td>ParseFlags() const {\\n  int flags = Regexp::Cl...</td>\n",
       "      <td>NaN</td>\n",
       "      <td>NaN</td>\n",
       "      <td>NaN</td>\n",
       "      <td>NaN</td>\n",
       "      <td>NaN</td>\n",
       "    </tr>\n",
       "    <tr>\n",
       "      <th>105229</th>\n",
       "      <td>ipmi_lan_check_session_id (fiid_obj_t obj_lan_...</td>\n",
       "      <td>NaN</td>\n",
       "      <td>NaN</td>\n",
       "      <td>NaN</td>\n",
       "      <td>NaN</td>\n",
       "      <td>NaN</td>\n",
       "    </tr>\n",
       "  </tbody>\n",
       "</table>\n",
       "</div>"
      ],
      "text/plain": [
       "                                          function_source  CWE-119  CWE-120  \\\n",
       "ID                                                                            \n",
       "105225  bcm_setup(struct hci_uart *hu)\\n{\\n\\tstruct bc...      NaN      NaN   \n",
       "105226  save_timeservers(char **servers)\\n{\\n\\tGKeyFil...      NaN      NaN   \n",
       "105227  lang_optimistic_scan(input_ty *fp, string_list...      NaN      NaN   \n",
       "105228  ParseFlags() const {\\n  int flags = Regexp::Cl...      NaN      NaN   \n",
       "105229  ipmi_lan_check_session_id (fiid_obj_t obj_lan_...      NaN      NaN   \n",
       "\n",
       "        CWE-476  CWE-468  CWE-other  \n",
       "ID                                   \n",
       "105225      NaN      NaN        NaN  \n",
       "105226      NaN      NaN        NaN  \n",
       "105227      NaN      NaN        NaN  \n",
       "105228      NaN      NaN        NaN  \n",
       "105229      NaN      NaN        NaN  "
      ]
     },
     "execution_count": 8,
     "metadata": {},
     "output_type": "execute_result"
    }
   ],
   "source": [
    "all_df.tail()"
   ]
  },
  {
   "cell_type": "code",
   "execution_count": 18,
   "id": "1a2cb6d5",
   "metadata": {},
   "outputs": [],
   "source": [
    "test_df = all_df[np.isnan(all_df[\"CWE-119\"])]"
   ]
  },
  {
   "cell_type": "code",
   "execution_count": 21,
   "id": "21dda48b",
   "metadata": {},
   "outputs": [],
   "source": [
    "train_df = all_df[np.isnan(all_df[\"CWE-119\"])==False]"
   ]
  },
  {
   "cell_type": "code",
   "execution_count": 24,
   "id": "af8d3551",
   "metadata": {},
   "outputs": [
    {
     "name": "stdout",
     "output_type": "stream",
     "text": [
      "train df has shape (85804, 6) and test df has shape (19426, 6)\n"
     ]
    }
   ],
   "source": [
    "print(f\"train df has shape {train_df.shape} and test df has shape {test_df.shape}\")"
   ]
  },
  {
   "cell_type": "markdown",
   "id": "d26ed503",
   "metadata": {},
   "source": [
    "### Define and train model on train_df"
   ]
  },
  {
   "cell_type": "code",
   "execution_count": 34,
   "id": "3ce4b77f",
   "metadata": {},
   "outputs": [
    {
     "name": "stderr",
     "output_type": "stream",
     "text": [
      "100%|███████████████████████████████████| 85804/85804 [01:16<00:00, 1118.67it/s]\n"
     ]
    }
   ],
   "source": [
    "train_source_codes = []\n",
    "for i in tqdm(range(0, train_df.shape[0])):\n",
    "    train_source_codes.append(word_tokenize(train_df.iloc[i, 0].lower()))"
   ]
  },
  {
   "cell_type": "code",
   "execution_count": 35,
   "id": "43b9bbba",
   "metadata": {},
   "outputs": [],
   "source": [
    "class EpochLogger(CallbackAny2Vec):\n",
    "    '''Callback to log information about training'''\n",
    "    \n",
    "    def __init__(self):\n",
    "        self.epoch = 0\n",
    "\n",
    "    def on_epoch_end(self, model):\n",
    "        print(\"Epoch #{} end\".format(self.epoch))\n",
    "        self.epoch += 1"
   ]
  },
  {
   "cell_type": "code",
   "execution_count": 36,
   "id": "6e464268",
   "metadata": {},
   "outputs": [],
   "source": [
    "tagged_data = [TaggedDocument(words=train_source_codes[i], tags=[str(i)]) for i in range(0, len(train_source_codes))]"
   ]
  },
  {
   "cell_type": "code",
   "execution_count": 37,
   "id": "d4bcc565",
   "metadata": {
    "scrolled": true
   },
   "outputs": [
    {
     "name": "stdout",
     "output_type": "stream",
     "text": [
      "Epoch #0 end\n",
      "Epoch #1 end\n",
      "Epoch #2 end\n",
      "Epoch #3 end\n",
      "Epoch #4 end\n",
      "Epoch #5 end\n",
      "Epoch #6 end\n",
      "Epoch #7 end\n",
      "Epoch #8 end\n",
      "Epoch #9 end\n",
      "Epoch #10 end\n",
      "Epoch #11 end\n",
      "Epoch #12 end\n",
      "Epoch #13 end\n",
      "Epoch #14 end\n",
      "Epoch #15 end\n",
      "Epoch #16 end\n",
      "Epoch #17 end\n",
      "Epoch #18 end\n",
      "Epoch #19 end\n",
      "Epoch #20 end\n",
      "Epoch #21 end\n",
      "Epoch #22 end\n",
      "Epoch #23 end\n",
      "Epoch #24 end\n",
      "Epoch #25 end\n",
      "Epoch #26 end\n",
      "Epoch #27 end\n",
      "Epoch #28 end\n",
      "Epoch #29 end\n",
      "Epoch #30 end\n",
      "Epoch #31 end\n",
      "Epoch #32 end\n",
      "Epoch #33 end\n",
      "Epoch #34 end\n",
      "Epoch #35 end\n",
      "Epoch #36 end\n",
      "Epoch #37 end\n",
      "Epoch #38 end\n",
      "Epoch #39 end\n"
     ]
    }
   ],
   "source": [
    "epoch_logger = EpochLogger()\n",
    "embedding_model = Doc2Vec(vector_size=100, window=5, min_count=100, alpha=0.025, min_alpha=0.00025, dm =1, workers=4)\n",
    "  \n",
    "embedding_model.build_vocab(tagged_data)\n",
    "\n",
    "embedding_model.train(tagged_data, total_examples=embedding_model.corpus_count, epochs=40, callbacks=[epoch_logger])"
   ]
  },
  {
   "cell_type": "code",
   "execution_count": 38,
   "id": "43256b1f",
   "metadata": {},
   "outputs": [
    {
     "name": "stderr",
     "output_type": "stream",
     "text": [
      "100%|████████████████████████████████████| 85804/85804 [07:08<00:00, 200.09it/s]\n"
     ]
    }
   ],
   "source": [
    "x_train = []\n",
    "for i in tqdm(range(0, len(train_source_codes))):\n",
    "    x_train.append(embedding_model.infer_vector(train_source_codes[i]))\n",
    "y_train1 = np.asarray(train_df)[:,1].astype('float32')\n",
    "y_train2 = np.asarray(train_df)[:,2].astype('float32')\n",
    "y_train3 = np.asarray(train_df)[:,3].astype('float32')\n",
    "y_train4 = np.asarray(train_df)[:,4].astype('float32')\n",
    "y_train5 = np.asarray(train_df)[:,5].astype('float32')"
   ]
  },
  {
   "cell_type": "code",
   "execution_count": 39,
   "id": "ecc2183e",
   "metadata": {},
   "outputs": [
    {
     "data": {
      "text/plain": [
       "MLPClassifier(alpha=1e-05, hidden_layer_sizes=(100, 100, 10), max_iter=500)"
      ]
     },
     "execution_count": 39,
     "metadata": {},
     "output_type": "execute_result"
    }
   ],
   "source": [
    "predictor_model1 = MLPClassifier(activation=\"relu\", solver=\"adam\", alpha=1e-5, hidden_layer_sizes=(100, 100, 10), learning_rate=\"constant\", learning_rate_init=0.001, max_iter=500)\n",
    "predictor_model1.fit(x_train,y_train1)"
   ]
  },
  {
   "cell_type": "code",
   "execution_count": 40,
   "id": "e313e449",
   "metadata": {},
   "outputs": [
    {
     "data": {
      "text/plain": [
       "MLPClassifier(alpha=1e-05, hidden_layer_sizes=(100, 100, 10), max_iter=500)"
      ]
     },
     "execution_count": 40,
     "metadata": {},
     "output_type": "execute_result"
    }
   ],
   "source": [
    "predictor_model2 = MLPClassifier(activation=\"relu\", solver=\"adam\", alpha=1e-5, hidden_layer_sizes=(100, 100, 10), learning_rate=\"constant\", learning_rate_init=0.001, max_iter=500)\n",
    "predictor_model2.fit(x_train,y_train2)"
   ]
  },
  {
   "cell_type": "code",
   "execution_count": 41,
   "id": "99ae88c2",
   "metadata": {},
   "outputs": [
    {
     "data": {
      "text/plain": [
       "MLPClassifier(alpha=1e-05, hidden_layer_sizes=(100, 100, 10), max_iter=500)"
      ]
     },
     "execution_count": 41,
     "metadata": {},
     "output_type": "execute_result"
    }
   ],
   "source": [
    "predictor_model3 = MLPClassifier(activation=\"relu\", solver=\"adam\", alpha=1e-5, hidden_layer_sizes=(100, 100, 10), learning_rate=\"constant\", learning_rate_init=0.001, max_iter=500)\n",
    "predictor_model3.fit(x_train,y_train3)"
   ]
  },
  {
   "cell_type": "code",
   "execution_count": 42,
   "id": "1c133e23",
   "metadata": {},
   "outputs": [
    {
     "data": {
      "text/plain": [
       "MLPClassifier(alpha=1e-05, hidden_layer_sizes=(100, 100, 10), max_iter=500)"
      ]
     },
     "execution_count": 42,
     "metadata": {},
     "output_type": "execute_result"
    }
   ],
   "source": [
    "predictor_model4 = MLPClassifier(activation=\"relu\", solver=\"adam\", alpha=1e-5, hidden_layer_sizes=(100, 100, 10), learning_rate=\"constant\", learning_rate_init=0.001, max_iter=500)\n",
    "predictor_model4.fit(x_train,y_train4)"
   ]
  },
  {
   "cell_type": "code",
   "execution_count": 43,
   "id": "5fc768f5",
   "metadata": {},
   "outputs": [
    {
     "data": {
      "text/plain": [
       "MLPClassifier(alpha=1e-05, hidden_layer_sizes=(100, 100, 10), max_iter=500)"
      ]
     },
     "execution_count": 43,
     "metadata": {},
     "output_type": "execute_result"
    }
   ],
   "source": [
    "predictor_model5 = MLPClassifier(activation=\"relu\", solver=\"adam\", alpha=1e-5, hidden_layer_sizes=(100, 100, 10), learning_rate=\"constant\", learning_rate_init=0.001, max_iter=500)\n",
    "predictor_model5.fit(x_train,y_train5)"
   ]
  },
  {
   "cell_type": "markdown",
   "id": "d1fbbf33",
   "metadata": {},
   "source": [
    "### Score model based on training data"
   ]
  },
  {
   "cell_type": "code",
   "execution_count": 44,
   "id": "be3feace",
   "metadata": {},
   "outputs": [],
   "source": [
    "y_pred1 = predictor_model1.predict(x_train)\n",
    "y_pred2 = predictor_model2.predict(x_train)\n",
    "y_pred3 = predictor_model3.predict(x_train)\n",
    "y_pred4 = predictor_model4.predict(x_train)\n",
    "y_pred5 = predictor_model5.predict(x_train)"
   ]
  },
  {
   "cell_type": "code",
   "execution_count": 45,
   "id": "3b006aa6",
   "metadata": {},
   "outputs": [
    {
     "name": "stdout",
     "output_type": "stream",
     "text": [
      "Mean of f1 scores on training data is 0.9705801236713387\n"
     ]
    }
   ],
   "source": [
    "f1_scores = [sklearn.metrics.f1_score(y_train1, y_pred1), \n",
    "             sklearn.metrics.f1_score(y_train2, y_pred2), \n",
    "             sklearn.metrics.f1_score(y_train3, y_pred3), \n",
    "             sklearn.metrics.f1_score(y_train4, y_pred4), \n",
    "             sklearn.metrics.f1_score(y_train5, y_pred5)]\n",
    "print(f\"Mean of f1 scores on training data is {np.mean(f1_scores)}\")"
   ]
  },
  {
   "cell_type": "markdown",
   "id": "f8007097",
   "metadata": {},
   "source": [
    "### Apply model on test data"
   ]
  },
  {
   "cell_type": "code",
   "execution_count": 46,
   "id": "c4b4861c",
   "metadata": {},
   "outputs": [
    {
     "name": "stderr",
     "output_type": "stream",
     "text": [
      "100%|███████████████████████████████████| 19426/19426 [00:16<00:00, 1172.28it/s]\n"
     ]
    }
   ],
   "source": [
    "test_source_codes = []\n",
    "for i in tqdm(range(0, test_df.shape[0])):\n",
    "    test_source_codes.append(word_tokenize(test_df.iloc[i, 0].lower()))"
   ]
  },
  {
   "cell_type": "code",
   "execution_count": 47,
   "id": "a45c0e74",
   "metadata": {},
   "outputs": [
    {
     "name": "stderr",
     "output_type": "stream",
     "text": [
      "100%|████████████████████████████████████| 19426/19426 [01:32<00:00, 211.13it/s]\n"
     ]
    }
   ],
   "source": [
    "x_test = []\n",
    "for i in tqdm(range(0, len(test_source_codes))):\n",
    "    x_test.append(embedding_model.infer_vector(test_source_codes[i]))"
   ]
  },
  {
   "cell_type": "code",
   "execution_count": 48,
   "id": "cd431e07",
   "metadata": {},
   "outputs": [],
   "source": [
    "y_pred1 = predictor_model1.predict(x_test)\n",
    "y_pred2 = predictor_model2.predict(x_test)\n",
    "y_pred3 = predictor_model3.predict(x_test)\n",
    "y_pred4 = predictor_model4.predict(x_test)\n",
    "y_pred5 = predictor_model5.predict(x_test)"
   ]
  },
  {
   "cell_type": "code",
   "execution_count": 49,
   "id": "073458da",
   "metadata": {},
   "outputs": [],
   "source": [
    "new_test_df = test_df.copy(deep=True)\n",
    "new_test_df[\"CWE-119\"] = y_pred1\n",
    "new_test_df[\"CWE-120\"] = y_pred2\n",
    "new_test_df[\"CWE-476\"] = y_pred3\n",
    "new_test_df[\"CWE-468\"] = y_pred4\n",
    "new_test_df[\"CWE-other\"] = y_pred5"
   ]
  },
  {
   "cell_type": "code",
   "execution_count": 55,
   "id": "6e88109e",
   "metadata": {},
   "outputs": [
    {
     "data": {
      "text/html": [
       "<div>\n",
       "<style scoped>\n",
       "    .dataframe tbody tr th:only-of-type {\n",
       "        vertical-align: middle;\n",
       "    }\n",
       "\n",
       "    .dataframe tbody tr th {\n",
       "        vertical-align: top;\n",
       "    }\n",
       "\n",
       "    .dataframe thead th {\n",
       "        text-align: right;\n",
       "    }\n",
       "</style>\n",
       "<table border=\"1\" class=\"dataframe\">\n",
       "  <thead>\n",
       "    <tr style=\"text-align: right;\">\n",
       "      <th></th>\n",
       "      <th>function_source</th>\n",
       "      <th>CWE-119</th>\n",
       "      <th>CWE-120</th>\n",
       "      <th>CWE-476</th>\n",
       "      <th>CWE-468</th>\n",
       "      <th>CWE-other</th>\n",
       "    </tr>\n",
       "    <tr>\n",
       "      <th>ID</th>\n",
       "      <th></th>\n",
       "      <th></th>\n",
       "      <th></th>\n",
       "      <th></th>\n",
       "      <th></th>\n",
       "      <th></th>\n",
       "    </tr>\n",
       "  </thead>\n",
       "  <tbody>\n",
       "    <tr>\n",
       "      <th>105225</th>\n",
       "      <td>bcm_setup(struct hci_uart *hu)\\n{\\n\\tstruct bc...</td>\n",
       "      <td>0.0</td>\n",
       "      <td>0.0</td>\n",
       "      <td>0.0</td>\n",
       "      <td>0.0</td>\n",
       "      <td>0.0</td>\n",
       "    </tr>\n",
       "    <tr>\n",
       "      <th>105226</th>\n",
       "      <td>save_timeservers(char **servers)\\n{\\n\\tGKeyFil...</td>\n",
       "      <td>0.0</td>\n",
       "      <td>0.0</td>\n",
       "      <td>0.0</td>\n",
       "      <td>0.0</td>\n",
       "      <td>0.0</td>\n",
       "    </tr>\n",
       "    <tr>\n",
       "      <th>105227</th>\n",
       "      <td>lang_optimistic_scan(input_ty *fp, string_list...</td>\n",
       "      <td>1.0</td>\n",
       "      <td>1.0</td>\n",
       "      <td>0.0</td>\n",
       "      <td>0.0</td>\n",
       "      <td>1.0</td>\n",
       "    </tr>\n",
       "    <tr>\n",
       "      <th>105228</th>\n",
       "      <td>ParseFlags() const {\\n  int flags = Regexp::Cl...</td>\n",
       "      <td>0.0</td>\n",
       "      <td>0.0</td>\n",
       "      <td>0.0</td>\n",
       "      <td>0.0</td>\n",
       "      <td>0.0</td>\n",
       "    </tr>\n",
       "    <tr>\n",
       "      <th>105229</th>\n",
       "      <td>ipmi_lan_check_session_id (fiid_obj_t obj_lan_...</td>\n",
       "      <td>0.0</td>\n",
       "      <td>0.0</td>\n",
       "      <td>0.0</td>\n",
       "      <td>0.0</td>\n",
       "      <td>0.0</td>\n",
       "    </tr>\n",
       "  </tbody>\n",
       "</table>\n",
       "</div>"
      ],
      "text/plain": [
       "                                          function_source  CWE-119  CWE-120  \\\n",
       "ID                                                                            \n",
       "105225  bcm_setup(struct hci_uart *hu)\\n{\\n\\tstruct bc...      0.0      0.0   \n",
       "105226  save_timeservers(char **servers)\\n{\\n\\tGKeyFil...      0.0      0.0   \n",
       "105227  lang_optimistic_scan(input_ty *fp, string_list...      1.0      1.0   \n",
       "105228  ParseFlags() const {\\n  int flags = Regexp::Cl...      0.0      0.0   \n",
       "105229  ipmi_lan_check_session_id (fiid_obj_t obj_lan_...      0.0      0.0   \n",
       "\n",
       "        CWE-476  CWE-468  CWE-other  \n",
       "ID                                   \n",
       "105225      0.0      0.0        0.0  \n",
       "105226      0.0      0.0        0.0  \n",
       "105227      0.0      0.0        1.0  \n",
       "105228      0.0      0.0        0.0  \n",
       "105229      0.0      0.0        0.0  "
      ]
     },
     "execution_count": 55,
     "metadata": {},
     "output_type": "execute_result"
    }
   ],
   "source": [
    "new_test_df.tail()"
   ]
  },
  {
   "cell_type": "code",
   "execution_count": 56,
   "id": "c2758f5d",
   "metadata": {},
   "outputs": [],
   "source": [
    "new_test_df.to_csv(\"SCVD_submission.csv\")"
   ]
  },
  {
   "cell_type": "code",
   "execution_count": null,
   "id": "f9c2af3d",
   "metadata": {},
   "outputs": [],
   "source": []
  }
 ],
 "metadata": {
  "kernelspec": {
   "display_name": "Python 3 (ipykernel)",
   "language": "python",
   "name": "python3"
  },
  "language_info": {
   "codemirror_mode": {
    "name": "ipython",
    "version": 3
   },
   "file_extension": ".py",
   "mimetype": "text/x-python",
   "name": "python",
   "nbconvert_exporter": "python",
   "pygments_lexer": "ipython3",
   "version": "3.9.7"
  }
 },
 "nbformat": 4,
 "nbformat_minor": 5
}
