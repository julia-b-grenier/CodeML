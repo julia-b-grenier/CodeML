{
 "cells": [
  {
   "cell_type": "code",
   "execution_count": 2047,
   "metadata": {
    "colab": {
     "base_uri": "https://localhost:8080/"
    },
    "id": "SUD0qcZ2N6Kr",
    "outputId": "caca34e5-b653-446c-ce29-90554c10e6de"
   },
   "outputs": [],
   "source": [
    "# from google.colab import drive\n",
    "# drive.mount('/content/drive')"
   ]
  },
  {
   "cell_type": "code",
   "execution_count": null,
   "metadata": {
    "id": "H0RxV16-Hb09"
   },
   "outputs": [],
   "source": []
  },
  {
   "cell_type": "code",
   "execution_count": 2048,
   "metadata": {
    "colab": {
     "base_uri": "https://localhost:8080/"
    },
    "id": "R6GtLcndPlin",
    "outputId": "a1412007-5700-4cdd-8f30-1cf484331eb8"
   },
   "outputs": [
    {
     "name": "stderr",
     "output_type": "stream",
     "text": [
      "[nltk_data] Downloading package omw-1.4 to /home-\n",
      "[nltk_data]     students/amghad/nltk_data...\n",
      "[nltk_data]   Package omw-1.4 is already up-to-date!\n",
      "[nltk_data] Downloading package punkt to /home-\n",
      "[nltk_data]     students/amghad/nltk_data...\n",
      "[nltk_data]   Package punkt is already up-to-date!\n",
      "[nltk_data] Downloading package wordnet to /home-\n",
      "[nltk_data]     students/amghad/nltk_data...\n",
      "[nltk_data]   Package wordnet is already up-to-date!\n"
     ]
    }
   ],
   "source": [
    "import pandas as pd\n",
    "import numpy as np\n",
    "import string\n",
    "import seaborn as sns\n",
    "import warnings\n",
    "warnings.filterwarnings('ignore')\n",
    "from IPython.display import display\n",
    "from sklearn.feature_extraction.text import TfidfVectorizer\n",
    "from sklearn import pipeline\n",
    "from sklearn.linear_model import LogisticRegression\n",
    "from sklearn.model_selection import train_test_split\n",
    "import re\n",
    "from pathlib import Path\n",
    "from typing import Tuple, List, Optional, Union, Tuple, Text\n",
    "from pprint import pprint\n",
    "import matplotlib.pyplot as plt\n",
    "from matplotlib.ticker import AutoMinorLocator\n",
    "from matplotlib import gridspec\n",
    "import seaborn as sns\n",
    "import datetime\n",
    "from itertools import permutations\n",
    "import heapq\n",
    "import csv\n",
    "from string import punctuation\n",
    "import warnings\n",
    "warnings.filterwarnings(\"ignore\")\n",
    "import nltk\n",
    "from nltk.stem import PorterStemmer\n",
    "from nltk.stem import LancasterStemmer\n",
    "from nltk.corpus import stopwords\n",
    "# nltk.download()\n",
    "nltk.download('omw-1.4')\n",
    "stopwords.words('english')\n",
    "nltk.download('punkt')\n",
    "nltk.download('wordnet')\n",
    "from nltk.stem import WordNetLemmatizer\n",
    "import random\n",
    "from sklearn.linear_model import RidgeClassifier\n",
    "from sklearn.feature_extraction.text import CountVectorizer, TfidfTransformer\n",
    "from sklearn.metrics import accuracy_score, confusion_matrix, classification_report, f1_score"
   ]
  },
  {
   "cell_type": "code",
   "execution_count": 2049,
   "metadata": {
    "id": "s85byqdCHfaP"
   },
   "outputs": [],
   "source": [
    "def other_clean(text):\n",
    "        \"\"\"\n",
    "            Other manual text cleaning techniques\n",
    "        \"\"\"\n",
    "        # Typos, slang and other\n",
    "        sample_typos_slang = {\n",
    "                                \"w/e\": \"whatever\",\n",
    "                                \"usagov\": \"usa government\",\n",
    "                                \"recentlu\": \"recently\",\n",
    "                                \"ph0tos\": \"photos\",\n",
    "                                \"amirite\": \"am i right\",\n",
    "                                \"exp0sed\": \"exposed\",\n",
    "                                \"<3\": \"love\",\n",
    "                                \"luv\": \"love\",\n",
    "                                \"amageddon\": \"armageddon\",\n",
    "                                \"trfc\": \"traffic\",\n",
    "                                \"16yr\": \"16 year\"\n",
    "                                }\n",
    "\n",
    "        # Acronyms\n",
    "        sample_acronyms =  { \n",
    "                            \"mh370\": \"malaysia airlines flight 370\",\n",
    "                            \"okwx\": \"oklahoma city weather\",\n",
    "                            \"arwx\": \"arkansas weather\",    \n",
    "                            \"gawx\": \"georgia weather\",  \n",
    "                            \"scwx\": \"south carolina weather\",  \n",
    "                            \"cawx\": \"california weather\",\n",
    "                            \"tnwx\": \"tennessee weather\",\n",
    "                            \"azwx\": \"arizona weather\",  \n",
    "                            \"alwx\": \"alabama weather\",\n",
    "                            \"usnwsgov\": \"united states national weather service\",\n",
    "                            \"2mw\": \"tomorrow\"\n",
    "                            }\n",
    "\n",
    "        \n",
    "        # Some common abbreviations \n",
    "        sample_abbr = {\n",
    "                        \"$\" : \" dollar \",\n",
    "                        \"€\" : \" euro \",\n",
    "                        \"4ao\" : \"for adults only\",\n",
    "                        \"a.m\" : \"before midday\",\n",
    "                        \"a3\" : \"anytime anywhere anyplace\",\n",
    "                        \"aamof\" : \"as a matter of fact\",\n",
    "                        \"acct\" : \"account\",\n",
    "                        \"adih\" : \"another day in hell\",\n",
    "                        \"afaic\" : \"as far as i am concerned\",\n",
    "                        \"afaict\" : \"as far as i can tell\",\n",
    "                        \"afaik\" : \"as far as i know\",\n",
    "                        \"afair\" : \"as far as i remember\",\n",
    "                        \"afk\" : \"away from keyboard\",\n",
    "                        \"app\" : \"application\",\n",
    "                        \"approx\" : \"approximately\",\n",
    "                        \"apps\" : \"applications\",\n",
    "                        \"asap\" : \"as soon as possible\",\n",
    "                        \"asl\" : \"age, sex, location\",\n",
    "                        \"atk\" : \"at the keyboard\",\n",
    "                        \"ave.\" : \"avenue\",\n",
    "                        \"aymm\" : \"are you my mother\",\n",
    "                        \"ayor\" : \"at your own risk\", \n",
    "                        \"b&b\" : \"bed and breakfast\",\n",
    "                        \"b+b\" : \"bed and breakfast\",\n",
    "                        \"b.c\" : \"before christ\",\n",
    "                        \"b2b\" : \"business to business\",\n",
    "                        \"b2c\" : \"business to customer\",\n",
    "                        \"b4\" : \"before\",\n",
    "                        \"b4n\" : \"bye for now\",\n",
    "                        \"b@u\" : \"back at you\",\n",
    "                        \"bae\" : \"before anyone else\",\n",
    "                        \"bak\" : \"back at keyboard\",\n",
    "                        \"bbbg\" : \"bye bye be good\",\n",
    "                        \"bbc\" : \"british broadcasting corporation\",\n",
    "                        \"bbias\" : \"be back in a second\",\n",
    "                        \"bbl\" : \"be back later\",\n",
    "                        \"bbs\" : \"be back soon\",\n",
    "                        \"be4\" : \"before\",\n",
    "                        \"bfn\" : \"bye for now\",\n",
    "                        \"blvd\" : \"boulevard\",\n",
    "                        \"bout\" : \"about\",\n",
    "                        \"brb\" : \"be right back\",\n",
    "                        \"bros\" : \"brothers\",\n",
    "                        \"brt\" : \"be right there\",\n",
    "                        \"bsaaw\" : \"big smile and a wink\",\n",
    "                        \"btw\" : \"by the way\",\n",
    "                        \"bwl\" : \"bursting with laughter\",\n",
    "                        \"c/o\" : \"care of\",\n",
    "                        \"cet\" : \"central european time\",\n",
    "                        \"cf\" : \"compare\",\n",
    "                        \"cia\" : \"central intelligence agency\",\n",
    "                        \"csl\" : \"can not stop laughing\",\n",
    "                        \"cu\" : \"see you\",\n",
    "                        \"cul8r\" : \"see you later\",\n",
    "                        \"cv\" : \"curriculum vitae\",\n",
    "                        \"cwot\" : \"complete waste of time\",\n",
    "                        \"cya\" : \"see you\",\n",
    "                        \"cyt\" : \"see you tomorrow\",\n",
    "                        \"dae\" : \"does anyone else\",\n",
    "                        \"dbmib\" : \"do not bother me i am busy\",\n",
    "                        \"diy\" : \"do it yourself\",\n",
    "                        \"dm\" : \"direct message\",\n",
    "                        \"dwh\" : \"during work hours\",\n",
    "                        \"e123\" : \"easy as one two three\",\n",
    "                        \"eet\" : \"eastern european time\",\n",
    "                        \"eg\" : \"example\",\n",
    "                        \"embm\" : \"early morning business meeting\",\n",
    "                        \"encl\" : \"enclosed\",\n",
    "                        \"encl.\" : \"enclosed\",\n",
    "                        \"etc\" : \"and so on\",\n",
    "                        \"faq\" : \"frequently asked questions\",\n",
    "                        \"fawc\" : \"for anyone who cares\",\n",
    "                        \"fb\" : \"facebook\",\n",
    "                        \"fc\" : \"fingers crossed\",\n",
    "                        \"fig\" : \"figure\",\n",
    "                        \"fimh\" : \"forever in my heart\", \n",
    "                        \"ft.\" : \"feet\",\n",
    "                        \"ft\" : \"featuring\",\n",
    "                        \"ftl\" : \"for the loss\",\n",
    "                        \"ftw\" : \"for the win\",\n",
    "                        \"fwiw\" : \"for what it is worth\",\n",
    "                        \"fyi\" : \"for your information\",\n",
    "                        \"g9\" : \"genius\",\n",
    "                        \"gahoy\" : \"get a hold of yourself\",\n",
    "                        \"gal\" : \"get a life\",\n",
    "                        \"gcse\" : \"general certificate of secondary education\",\n",
    "                        \"gfn\" : \"gone for now\",\n",
    "                        \"gg\" : \"good game\",\n",
    "                        \"gl\" : \"good luck\",\n",
    "                        \"glhf\" : \"good luck have fun\",\n",
    "                        \"gmt\" : \"greenwich mean time\",\n",
    "                        \"gmta\" : \"great minds think alike\",\n",
    "                        \"gn\" : \"good night\",\n",
    "                        \"g.o.a.t\" : \"greatest of all time\",\n",
    "                        \"goat\" : \"greatest of all time\",\n",
    "                        \"goi\" : \"get over it\",\n",
    "                        \"gps\" : \"global positioning system\",\n",
    "                        \"gr8\" : \"great\",\n",
    "                        \"gratz\" : \"congratulations\",\n",
    "                        \"gyal\" : \"girl\",\n",
    "                        \"h&c\" : \"hot and cold\",\n",
    "                        \"hp\" : \"horsepower\",\n",
    "                        \"hr\" : \"hour\",\n",
    "                        \"hrh\" : \"his royal highness\",\n",
    "                        \"ht\" : \"height\",\n",
    "                        \"ibrb\" : \"i will be right back\",\n",
    "                        \"ic\" : \"i see\",\n",
    "                        \"icq\" : \"i seek you\",\n",
    "                        \"icymi\" : \"in case you missed it\",\n",
    "                        \"idc\" : \"i do not care\",\n",
    "                        \"idgadf\" : \"i do not give a damn fuck\",\n",
    "                        \"idgaf\" : \"i do not give a fuck\",\n",
    "                        \"idk\" : \"i do not know\",\n",
    "                        \"ie\" : \"that is\",\n",
    "                        \"i.e\" : \"that is\",\n",
    "                        \"ifyp\" : \"i feel your pain\",\n",
    "                        \"IG\" : \"instagram\",\n",
    "                        \"iirc\" : \"if i remember correctly\",\n",
    "                        \"ilu\" : \"i love you\",\n",
    "                        \"ily\" : \"i love you\",\n",
    "                        \"imho\" : \"in my humble opinion\",\n",
    "                        \"imo\" : \"in my opinion\",\n",
    "                        \"imu\" : \"i miss you\",\n",
    "                        \"iow\" : \"in other words\",\n",
    "                        \"irl\" : \"in real life\",\n",
    "                        \"j4f\" : \"just for fun\",\n",
    "                        \"jic\" : \"just in case\",\n",
    "                        \"jk\" : \"just kidding\",\n",
    "                        \"jsyk\" : \"just so you know\",\n",
    "                        \"l8r\" : \"later\",\n",
    "                        \"lb\" : \"pound\",\n",
    "                        \"lbs\" : \"pounds\",\n",
    "                        \"ldr\" : \"long distance relationship\",\n",
    "                        \"lmao\" : \"laugh my ass off\",\n",
    "                        \"lmfao\" : \"laugh my fucking ass off\",\n",
    "                        \"lol\" : \"laughing out loud\",\n",
    "                        \"ltd\" : \"limited\",\n",
    "                        \"ltns\" : \"long time no see\",\n",
    "                        \"m8\" : \"mate\",\n",
    "                        \"mf\" : \"motherfucker\",\n",
    "                        \"mfs\" : \"motherfuckers\",\n",
    "                        \"mfw\" : \"my face when\",\n",
    "                        \"mofo\" : \"motherfucker\",\n",
    "                        \"mph\" : \"miles per hour\",\n",
    "                        \"mr\" : \"mister\",\n",
    "                        \"mrw\" : \"my reaction when\",\n",
    "                        \"ms\" : \"miss\",\n",
    "                        \"mte\" : \"my thoughts exactly\",\n",
    "                        \"nagi\" : \"not a good idea\",\n",
    "                        \"nbc\" : \"national broadcasting company\",\n",
    "                        \"nbd\" : \"not big deal\",\n",
    "                        \"nfs\" : \"not for sale\",\n",
    "                        \"ngl\" : \"not going to lie\",\n",
    "                        \"nhs\" : \"national health service\",\n",
    "                        \"nrn\" : \"no reply necessary\",\n",
    "                        \"nsfl\" : \"not safe for life\",\n",
    "                        \"nsfw\" : \"not safe for work\",\n",
    "                        \"nth\" : \"nice to have\",\n",
    "                        \"nvr\" : \"never\",\n",
    "                        \"nyc\" : \"new york city\",\n",
    "                        \"oc\" : \"original content\",\n",
    "                        \"og\" : \"original\",\n",
    "                        \"ohp\" : \"overhead projector\",\n",
    "                        \"oic\" : \"oh i see\",\n",
    "                        \"omdb\" : \"over my dead body\",\n",
    "                        \"omg\" : \"oh my god\",\n",
    "                        \"omw\" : \"on my way\",\n",
    "                        \"p.a\" : \"per annum\",\n",
    "                        \"p.m\" : \"after midday\",\n",
    "                        \"pm\" : \"prime minister\",\n",
    "                        \"poc\" : \"people of color\",\n",
    "                        \"pov\" : \"point of view\",\n",
    "                        \"pp\" : \"pages\",\n",
    "                        \"ppl\" : \"people\",\n",
    "                        \"prw\" : \"parents are watching\",\n",
    "                        \"ps\" : \"postscript\",\n",
    "                        \"pt\" : \"point\",\n",
    "                        \"ptb\" : \"please text back\",\n",
    "                        \"pto\" : \"please turn over\",\n",
    "                        \"qpsa\" : \"what happens\", #\"que pasa\",\n",
    "                        \"ratchet\" : \"rude\",\n",
    "                        \"rbtl\" : \"read between the lines\",\n",
    "                        \"rlrt\" : \"real life retweet\", \n",
    "                        \"rofl\" : \"rolling on the floor laughing\",\n",
    "                        \"roflol\" : \"rolling on the floor laughing out loud\",\n",
    "                        \"rotflmao\" : \"rolling on the floor laughing my ass off\",\n",
    "                        \"rt\" : \"retweet\",\n",
    "                        \"ruok\" : \"are you ok\",\n",
    "                        \"sfw\" : \"safe for work\",\n",
    "                        \"sk8\" : \"skate\",\n",
    "                        \"smh\" : \"shake my head\",\n",
    "                        \"sq\" : \"square\",\n",
    "                        \"srsly\" : \"seriously\", \n",
    "                        \"ssdd\" : \"same stuff different day\",\n",
    "                        \"tbh\" : \"to be honest\",\n",
    "                        \"tbs\" : \"tablespooful\",\n",
    "                        \"tbsp\" : \"tablespooful\",\n",
    "                        \"tfw\" : \"that feeling when\",\n",
    "                        \"thks\" : \"thank you\",\n",
    "                        \"tho\" : \"though\",\n",
    "                        \"thx\" : \"thank you\",\n",
    "                        \"tia\" : \"thanks in advance\",\n",
    "                        \"til\" : \"today i learned\",\n",
    "                        \"tl;dr\" : \"too long i did not read\",\n",
    "                        \"tldr\" : \"too long i did not read\",\n",
    "                        \"tmb\" : \"tweet me back\",\n",
    "                        \"tntl\" : \"trying not to laugh\",\n",
    "                        \"ttyl\" : \"talk to you later\",\n",
    "                        \"u\" : \"you\",\n",
    "                        \"u2\" : \"you too\",\n",
    "                        \"u4e\" : \"yours for ever\",\n",
    "                        \"utc\" : \"coordinated universal time\",\n",
    "                        \"w/\" : \"with\",\n",
    "                        \"w/o\" : \"without\",\n",
    "                        \"w8\" : \"wait\",\n",
    "                        \"wassup\" : \"what is up\",\n",
    "                        \"wb\" : \"welcome back\",\n",
    "                        \"wtf\" : \"what the fuck\",\n",
    "                        \"wtg\" : \"way to go\",\n",
    "                        \"wtpa\" : \"where the party at\",\n",
    "                        \"wuf\" : \"where are you from\",\n",
    "                        \"wuzup\" : \"what is up\",\n",
    "                        \"wywh\" : \"wish you were here\",\n",
    "                        \"yd\" : \"yard\",\n",
    "                        \"ygtr\" : \"you got that right\",\n",
    "                        \"ynk\" : \"you never know\",\n",
    "                        \"zzz\" : \"sleeping bored and tired\"\n",
    "                        }\n",
    "            \n",
    "        sample_typos_slang_pattern = re.compile(r'(?<!\\w)(' + '|'.join(re.escape(key) for key in sample_typos_slang.keys()) + r')(?!\\w)')\n",
    "        sample_acronyms_pattern = re.compile(r'(?<!\\w)(' + '|'.join(re.escape(key) for key in sample_acronyms.keys()) + r')(?!\\w)')\n",
    "        sample_abbr_pattern = re.compile(r'(?<!\\w)(' + '|'.join(re.escape(key) for key in sample_abbr.keys()) + r')(?!\\w)')\n",
    "        \n",
    "        text = sample_typos_slang_pattern.sub(lambda x: sample_typos_slang[x.group()], text)\n",
    "        text = sample_acronyms_pattern.sub(lambda x: sample_acronyms[x.group()], text)\n",
    "        text = sample_abbr_pattern.sub(lambda x: sample_abbr[x.group()], text)\n",
    "        \n",
    "        return text"
   ]
  },
  {
   "cell_type": "code",
   "execution_count": 2050,
   "metadata": {
    "id": "pQVY2fBschmD"
   },
   "outputs": [],
   "source": [
    "# I used the code that coded here: https://www.kaggle.com/aditiani/analyzing-chatbot\n",
    "\n",
    "contractions_dict = {     \n",
    "\"ain't\": \"am not\", \"aren't\": \"are not\", \"can't\": \"cannot\", \"can't've\": \"cannot have\", \"'cause\": \"because\",\n",
    "\"could've\": \"could have\", \"couldn't\": \"could not\", \"couldn't've\": \"could not have\", \"didn't\": \"did not\", \"doesn't\": \"does not\",\n",
    "\"don't\": \"do not\", \"hadn't\": \"had not\", \"hadn't've\": \"had not have\", \"hasn't\": \"has not\", \"haven't\": \"have not\",\n",
    "\"he'd\": \"he had\", \"he'd've\": \"he would have\", \"he'll\": \"he will\", \"he'll've\": \"he will have\", \"he's\": \"he is\",\n",
    "\"how'd\": \"how did\", \"how'd'y\": \"how do you\", \"how'll\": \"how will\", \"how's\": \"how is\", \"I'd\": \"I had\", \"I'd've\": \"I would have\",\n",
    "\"I'll\": \"I will\", \"I'll've\": \"I will have\", \"I'm\": \"I am\", \"I've\": \"I have\", \"isn't\": \"is not\", \"it'd\": \"it had\",\n",
    "\"it'd've\": \"it would have\", \"it'll\": \"it will\", \"it'll've\": \"iit will have\", \"it's\": \"it is\", \"let's\": \"let us\",\n",
    "\"ma'am\": \"madam\", \"mayn't\": \"may not\", \"might've\": \"might have\", \"mightn't\": \"might not\", \"mightn't've\": \"might not have\",\n",
    "\"must've\": \"must have\", \"mustn't\": \"must not\", \"mustn't've\": \"must not have\", \"needn't\": \"need not\", \"needn't've\": \"need not have\",\n",
    "\"o'clock\": \"of the clock\", \"oughtn't\": \"ought not\", \"oughtn't've\": \"ought not have\", \"shan't\": \"shall not\",\n",
    "\"sha'n't\": \"shall not\", \"shan't've\": \"shall not have\", \"she'd\": \"she had\", \"she'd've\": \"she would have\", \"she'll\": \"she will\",\n",
    "\"she'll've\": \"she will have\", \"she's\": \"she is\", \"should've\": \"should have\", \"shouldn't\": \"should not\",\n",
    "\"shouldn't've\": \"should not have\", \"so've\": \"so have\", \"so's\": \"so is\", \"that'd\": \"that had\", \"that'd've\": \"that would have\",\n",
    "\"that's\": \"that is\", \"there'd\": \"there had\", \"there'd've\": \"there would have\", \"there's\": \"there is\", \"they'd\": \"they had\",\n",
    "\"they'd've\": \"they would have\", \"they'll\": \"they will\", \"they'll've\": \"they will have\", \"they're\": \"they are\",\n",
    "\"they've\": \"they have\", \"to've\": \"to have\", \"wasn't\": \"was not\", \"we'd\": \"we had\", \"we'd've\": \"we would have\",\n",
    "\"we'll\": \"we will\", \"we'll've\": \"we will have\", \"we're\": \"we are\", \"we've\": \"we have\", \"weren't\": \"were not\",\n",
    "\"what'll\": \"what will\", \"what'll've\": \"what will have\", \"what're\": \"what are\", \"what's\": \"what is\", \"what've\": \"what have\",\n",
    "\"when's\": \"when is\", \"when've\": \"when have\", \"where'd\": \"where did\", \"where's\": \"where is\", \"where've\": \"where have\",\n",
    "\"who'll\": \"who will\", \"who'll've\": \"who will have\", \"who's\": \"who is\", \"who've\": \"who have\", \"why's\": \"why is\",\n",
    "\"why've\": \"why have\", \"will've\": \"will have\", \"won't\": \"will not\", \"won't've\": \"will not have\", \"would've\": \"would have\",\n",
    "\"wouldn't\": \"would not\", \"wouldn't've\": \"would not have\", \"y'all\": \"you all\", \"y'all'd\": \"you all would\",\n",
    "\"y'all'd've\": \"you all would have\", \"y'all're\": \"you all are\", \"y'all've\": \"you all have\", \"you'd\": \"you had\",\n",
    "\"you'd've\": \"you would have\", \"you'll\": \"you will\", \"you'll've\": \"you will have\", \"you're\": \"you are\", \"you've\": \"you have\"\n",
    "}\n",
    "\n",
    "def expand_contraction(text, contraction_dict):\n",
    "    contraction_pattern = re.compile('({})'.format('|'.join(contraction_dict.keys())), flags= re.IGNORECASE | re.DOTALL)\n",
    "    \n",
    "    def expand_match(contraction):\n",
    "        match = contraction.group(0)\n",
    "        first_char = match[0]\n",
    "        expanded_contraction = contraction_dict.get(match) \\\n",
    "            if contraction_dict.get(match) \\\n",
    "            else contraction_dict.get(match.lower())\n",
    "        expanded_contraction = expanded_contraction\n",
    "        \n",
    "        return expanded_contraction\n",
    "        \n",
    "    expanded_text = contraction_pattern.sub(expand_match, text)\n",
    "    expanded_text = re.sub(\"'\",\"\", expanded_text)\n",
    "    \n",
    "    return expanded_text\n",
    "\n",
    "def main_contraction(text: str) -> str:\n",
    "    text = expand_contraction(text, contractions_dict)\n",
    "    \n",
    "    return text"
   ]
  },
  {
   "cell_type": "code",
   "execution_count": 2051,
   "metadata": {
    "id": "94jBQ_gackJK"
   },
   "outputs": [],
   "source": [
    "def to_lower(text: str) -> str:\n",
    "    return text.lower()"
   ]
  },
  {
   "cell_type": "code",
   "execution_count": 2052,
   "metadata": {
    "id": "v76EIghIcng9"
   },
   "outputs": [],
   "source": [
    "def remove_number(text: str) -> str:\n",
    "    output = ''.join(c for c in text if not c.isdigit())\n",
    "    return output"
   ]
  },
  {
   "cell_type": "code",
   "execution_count": 2053,
   "metadata": {
    "id": "E5MUfiOLcpbV"
   },
   "outputs": [],
   "source": [
    "def to_strip(text: str) -> str:\n",
    "    # return \" \".join([c for c in text.split() if len(c)>2])    \n",
    "    return \" \".join([c for c in text.split()])"
   ]
  },
  {
   "cell_type": "code",
   "execution_count": 2054,
   "metadata": {
    "id": "-2m7iz5AcrF6"
   },
   "outputs": [],
   "source": [
    "def remove_char(text: str) -> str:\n",
    "    text = re.sub(r'[^a-zA-Z\\s]', '', text, re.I|re.A)\n",
    "    return text"
   ]
  },
  {
   "cell_type": "code",
   "execution_count": 2055,
   "metadata": {
    "id": "ukPR1tOSctQg"
   },
   "outputs": [],
   "source": [
    "def remove_duplicate(text: str) -> str:\n",
    "    text = re.sub(\"(.)\\\\1{2,}\", \"\\\\1\", text)\n",
    "    return text"
   ]
  },
  {
   "cell_type": "code",
   "execution_count": 2056,
   "metadata": {
    "id": "NpSGXBBHcvGS"
   },
   "outputs": [],
   "source": [
    "def remove_stopwords(text: str) -> str:\n",
    "    stop_words = stopwords.words('english')\n",
    "    return ' '.join(c for c in nltk.word_tokenize(text) if c not in stop_words)"
   ]
  },
  {
   "cell_type": "code",
   "execution_count": 2057,
   "metadata": {
    "id": "W5XtEetZcyyK"
   },
   "outputs": [],
   "source": [
    "wordnet_lemma = WordNetLemmatizer()\n",
    "\n",
    "def lemma(text: str) -> str:\n",
    "    lemmatize_words = [wordnet_lemma.lemmatize(word, 'v') for sent in nltk.sent_tokenize(text) for word in nltk.word_tokenize(sent)]\n",
    "    return ' '.join(lemmatize_words)"
   ]
  },
  {
   "cell_type": "code",
   "execution_count": 2058,
   "metadata": {
    "id": "OL1AbWETc0g6"
   },
   "outputs": [],
   "source": [
    "# Remove the punctuations\n",
    "def remove_punct(text):\n",
    "    return \"\".join(c for c in text if c not in punctuation)"
   ]
  },
  {
   "cell_type": "code",
   "execution_count": 2059,
   "metadata": {
    "id": "VhsplvoIc2hs"
   },
   "outputs": [],
   "source": [
    "# Split identifier names, such as: camelCase, under_scores, dot.notation\n",
    "def identifier_converter(text: str) -> str:\n",
    "    text = re.sub('(.)([A-Z][a-z]+)', r'\\1_\\2', text)\n",
    "    text = re.sub('__([A-Z])', r'_\\1', text)\n",
    "    text = re.sub('([a-z0-9])([A-Z])|([A-Z])([a-z0-9])', r'\\1_\\2', text)\n",
    "    text = re.sub(r\"_|\\.\", \" \", text)\n",
    "    return re.sub(r\"\\s+\", \" \", text).lower()"
   ]
  },
  {
   "cell_type": "code",
   "execution_count": 2060,
   "metadata": {
    "id": "5d7vnG5Tc5FJ"
   },
   "outputs": [],
   "source": [
    "def change_punc_space(text: str) -> str:\n",
    "    for character in punctuation:\n",
    "        text = text.replace(character, ' ')\n",
    "    return text"
   ]
  },
  {
   "cell_type": "code",
   "execution_count": 2061,
   "metadata": {
    "id": "Gg-BF6AY7wfl"
   },
   "outputs": [],
   "source": [
    "def remove_punct_2(text):\n",
    "    table = str.maketrans('', '', string.punctuation)\n",
    "    return text.translate(table)"
   ]
  },
  {
   "cell_type": "code",
   "execution_count": 2062,
   "metadata": {
    "id": "vUSjAFSA7yt3"
   },
   "outputs": [],
   "source": [
    "def remove_html(text):\n",
    "    html = re.compile(r'<.*?>|&([a-z0-9]+|#[0-9]{1,6}|#x[0-9a-f]{1,6});')\n",
    "    return re.sub(html, '', text)"
   ]
  },
  {
   "cell_type": "code",
   "execution_count": 2063,
   "metadata": {
    "id": "6WtiJXv_7ywv"
   },
   "outputs": [],
   "source": [
    "def remove_URL(text):\n",
    "    url = re.compile(r'https?://\\S+|www\\.\\S+')\n",
    "    return url.sub(r'', text)"
   ]
  },
  {
   "cell_type": "code",
   "execution_count": 2064,
   "metadata": {
    "id": "im7kN7rO73kM"
   },
   "outputs": [],
   "source": [
    "def remove_emoji(text):\n",
    "    emoji_pattern = re.compile(\n",
    "        '['\n",
    "        u'\\U0001F600-\\U0001F64F'  # emoticons\n",
    "        u'\\U0001F300-\\U0001F5FF'  # symbols & pictographs\n",
    "        u'\\U0001F680-\\U0001F6FF'  # transport & map symbols\n",
    "        u'\\U0001F1E0-\\U0001F1FF'  # flags (iOS)\n",
    "        u'\\U00002702-\\U000027B0'\n",
    "        u'\\U000024C2-\\U0001F251'\n",
    "        ']+',\n",
    "        flags=re.UNICODE)\n",
    "    return emoji_pattern.sub(r'', text)"
   ]
  },
  {
   "cell_type": "code",
   "execution_count": 2065,
   "metadata": {
    "colab": {
     "base_uri": "https://localhost:8080/",
     "height": 144
    },
    "id": "nJybBRf7PuqV",
    "outputId": "e11ade59-de71-418c-c8db-9862bdf0aaff"
   },
   "outputs": [
    {
     "data": {
      "text/html": [
       "<div>\n",
       "<style scoped>\n",
       "    .dataframe tbody tr th:only-of-type {\n",
       "        vertical-align: middle;\n",
       "    }\n",
       "\n",
       "    .dataframe tbody tr th {\n",
       "        vertical-align: top;\n",
       "    }\n",
       "\n",
       "    .dataframe thead th {\n",
       "        text-align: right;\n",
       "    }\n",
       "</style>\n",
       "<table border=\"1\" class=\"dataframe\">\n",
       "  <thead>\n",
       "    <tr style=\"text-align: right;\">\n",
       "      <th></th>\n",
       "      <th>Text</th>\n",
       "      <th>Language</th>\n",
       "      <th>ID</th>\n",
       "    </tr>\n",
       "  </thead>\n",
       "  <tbody>\n",
       "    <tr>\n",
       "      <th>24326</th>\n",
       "      <td>[6] Encyclopædia Britannica Inc. şirketi ise ansiklopedilerindeki maddelerin ödül kazanmış ünlü akademisyenler tarafından hazırlandığını belirterek bu araştırmayı hatalı bulmuştur.</td>\n",
       "      <td>NaN</td>\n",
       "      <td>7823</td>\n",
       "    </tr>\n",
       "  </tbody>\n",
       "</table>\n",
       "</div>"
      ],
      "text/plain": [
       "                                                                                                                                                                                       Text  \\\n",
       "24326  [6] Encyclopædia Britannica Inc. şirketi ise ansiklopedilerindeki maddelerin ödül kazanmış ünlü akademisyenler tarafından hazırlandığını belirterek bu araştırmayı hatalı bulmuştur.   \n",
       "\n",
       "      Language    ID  \n",
       "24326      NaN  7823  "
      ]
     },
     "metadata": {},
     "output_type": "display_data"
    },
    {
     "data": {
      "text/html": [
       "<div>\n",
       "<style scoped>\n",
       "    .dataframe tbody tr th:only-of-type {\n",
       "        vertical-align: middle;\n",
       "    }\n",
       "\n",
       "    .dataframe tbody tr th {\n",
       "        vertical-align: top;\n",
       "    }\n",
       "\n",
       "    .dataframe thead th {\n",
       "        text-align: right;\n",
       "    }\n",
       "</style>\n",
       "<table border=\"1\" class=\"dataframe\">\n",
       "  <thead>\n",
       "    <tr style=\"text-align: right;\">\n",
       "      <th></th>\n",
       "      <th>Text</th>\n",
       "      <th>Language</th>\n",
       "      <th>ID</th>\n",
       "    </tr>\n",
       "  </thead>\n",
       "  <tbody>\n",
       "    <tr>\n",
       "      <th>0</th>\n",
       "      <td>şirket icra kurulu başkanı melih abdülhayoğlu tarafından birleşik krallıkta  yılında kurulmuştur  yılında şirket amerika birleşik devletlerine taşınmıştır comodo bilgisayar ve internet güvenliği üzerine odaklanmıştır şirket ssl sertifikalarını veren bir sertifika yetkilisi olarak etkinlik göstermektedir şahılar ve kurumlar için uç nokta network ve sınırı koruyan siber güvenlik güvenlik çözümleri sunmaktadır</td>\n",
       "      <td>Turkish</td>\n",
       "      <td>26110</td>\n",
       "    </tr>\n",
       "  </tbody>\n",
       "</table>\n",
       "</div>"
      ],
      "text/plain": [
       "                                                                                                                                                                                                                                                                                                                                                                                                                         Text  \\\n",
       "0  şirket icra kurulu başkanı melih abdülhayoğlu tarafından birleşik krallıkta  yılında kurulmuştur  yılında şirket amerika birleşik devletlerine taşınmıştır comodo bilgisayar ve internet güvenliği üzerine odaklanmıştır şirket ssl sertifikalarını veren bir sertifika yetkilisi olarak etkinlik göstermektedir şahılar ve kurumlar için uç nokta network ve sınırı koruyan siber güvenlik güvenlik çözümleri sunmaktadır   \n",
       "\n",
       "  Language     ID  \n",
       "0  Turkish  26110  "
      ]
     },
     "metadata": {},
     "output_type": "display_data"
    }
   ],
   "source": [
    "# Import the dataset as a dataframe\n",
    "data_set = pd.read_csv('language-identification-datasets.csv')\n",
    "\n",
    "# Separate input data into two groups: with and w/o label\n",
    "data_wo_label = data_set[data_set.Language.isnull()]\n",
    "data_w_label = data_set[~data_set.Language.isnull()]\n",
    "\n",
    "display(data_wo_label.head(1))\n",
    "display(data_w_label.head(1))"
   ]
  },
  {
   "cell_type": "markdown",
   "metadata": {
    "id": "7toTyreTUlR7"
   },
   "source": [
    "Value Counts of Language Label"
   ]
  },
  {
   "cell_type": "code",
   "execution_count": 2066,
   "metadata": {
    "colab": {
     "base_uri": "https://localhost:8080/"
    },
    "id": "y_yu-qgoP2Cp",
    "outputId": "6cfea254-e739-4149-ad9c-a43e342fc8f9"
   },
   "outputs": [
    {
     "data": {
      "text/plain": [
       "English       1877\n",
       "French        1596\n",
       "Spanish       1418\n",
       "Russian       1329\n",
       "Dutch         1226\n",
       "Arabic        1190\n",
       "Turkish       1170\n",
       "Tamil         1156\n",
       "Hindi          842\n",
       "Japanese       824\n",
       "Korean         795\n",
       "Indonesian     794\n",
       "Chinese        791\n",
       "Swedish        788\n",
       "Urdu           787\n",
       "Pushto         786\n",
       "Portugese      785\n",
       "Latin          784\n",
       "Persian        784\n",
       "Thai           770\n",
       "Estonian       768\n",
       "Romanian       762\n",
       "Italian        537\n",
       "Malayalam      452\n",
       "German         379\n",
       "Danish         342\n",
       "Kannada        301\n",
       "Greek          293\n",
       "Name: Language, dtype: int64"
      ]
     },
     "execution_count": 2066,
     "metadata": {},
     "output_type": "execute_result"
    }
   ],
   "source": [
    "data_w_label.Language.value_counts()"
   ]
  },
  {
   "cell_type": "markdown",
   "metadata": {
    "id": "vhtbzV6JU7W2"
   },
   "source": [
    "## Text Preprocessing"
   ]
  },
  {
   "cell_type": "markdown",
   "metadata": {
    "id": "Gkc9O5eqb8D5"
   },
   "source": [
    "### Tokenization:"
   ]
  },
  {
   "cell_type": "markdown",
   "metadata": {
    "id": "4d8NGeWScIYi"
   },
   "source": [
    "In the preprocessing section, we drop duplicate observations from the data frame and make sure all data have a string format, furthermore prepare the data frame for the next step."
   ]
  },
  {
   "cell_type": "code",
   "execution_count": 2067,
   "metadata": {
    "id": "kFGP7NRGUy4H"
   },
   "outputs": [],
   "source": [
    "# Make sure all the elements are string\n",
    "df_result = data_w_label.applymap(str)\n",
    "\n",
    "# Notice: strip() function will remove leading and trailing whitespaces.\n",
    "df_result['Language'] = df_result['Language'].apply(lambda x: x.strip())"
   ]
  },
  {
   "cell_type": "code",
   "execution_count": 2068,
   "metadata": {
    "id": "R1QpxP6UcPfo"
   },
   "outputs": [],
   "source": [
    "# Extract message length\n",
    "df_result['Text_length'] = df_result['Text'].apply(lambda x: len(x))"
   ]
  },
  {
   "cell_type": "code",
   "execution_count": 2069,
   "metadata": {
    "id": "-l5EqjvfGAlD"
   },
   "outputs": [],
   "source": [
    "def remove_punct(text):\n",
    "    \"\"\"\n",
    "        Remove the punctuation\n",
    "    \"\"\"\n",
    "#     return re.sub(r'[]!\"$%&\\'()*+,./:;=#@?[\\\\^_`{|}~-]+', \"\", text)\n",
    "    return text.translate(str.maketrans('', '', string.punctuation))"
   ]
  },
  {
   "cell_type": "code",
   "execution_count": 2070,
   "metadata": {
    "id": "IgfpWHmtGzKJ"
   },
   "outputs": [],
   "source": [
    "def my_remove(text):\n",
    "    \"\"\"\n",
    "        Remove the punctuation\n",
    "    \"\"\"\n",
    "    text = re.sub(r'[]!\"$%&\\'()*+,./:;=#@?[\\\\^_`{|}~-]+', \" \", text)\n",
    "    text = re.sub(r'[!@#$(),\"%^*?:;~`0-9]', ' ', text)      # removing the symbols and numbers\n",
    "    text = re.sub(r'[[]]', '', text) \n",
    "    text = re.sub(r'。×—— —”’“………«–»—…………«»→،°¿„”٫٪ء؛,«《》，', \"\", text) \n",
    "    return text"
   ]
  },
  {
   "cell_type": "code",
   "execution_count": null,
   "metadata": {
    "id": "ao03UXsPc9Fh"
   },
   "outputs": [],
   "source": []
  },
  {
   "cell_type": "code",
   "execution_count": 2071,
   "metadata": {
    "id": "nuFqaPP9dLNz"
   },
   "outputs": [],
   "source": [
    "# df_result.drop(['prep1', 'prep2', 'prep3', 'prep4', 'prep5', 'prep6', 'prep7', 'prep8'], axis=1, inplace=True)"
   ]
  },
  {
   "cell_type": "code",
   "execution_count": 2072,
   "metadata": {
    "id": "vJYD_1lsa8qw"
   },
   "outputs": [],
   "source": [
    "pd.options.display.max_colwidth = 500\n",
    "pd.options.display.max_columns = None\n",
    "pd.options.display.max_rows = None\n",
    "#  pd.set_option('display.max_rows', 500)\n",
    "# pd.set_option('display.max_columns', 500)\n",
    "# pd.set_option('display.width', 1000)"
   ]
  },
  {
   "cell_type": "code",
   "execution_count": 2073,
   "metadata": {
    "id": "ePoa1bX9g-gD"
   },
   "outputs": [],
   "source": [
    "# df_result.to_csv(\"/content/drive/MyDrive/check1.csv\")\n",
    "# df_result[[\"Text\", \"prep26\"]]\n",
    "# df_result.tail(5)[[\"Text\", \"prep8\"]]"
   ]
  },
  {
   "cell_type": "code",
   "execution_count": 2074,
   "metadata": {
    "id": "5H0ubo1Mg__S"
   },
   "outputs": [],
   "source": [
    "def removeSymbolsAndNumbers(text):        \n",
    "        text = re.sub(r'[{}]'.format(string.punctuation), '', text)\n",
    "        text = re.sub(r'\\d+', '', text)\n",
    "        text = re.sub(r'[@]', '', text)\n",
    "\n",
    "        return text"
   ]
  },
  {
   "cell_type": "code",
   "execution_count": 2075,
   "metadata": {
    "id": "JMnML8rghQWZ"
   },
   "outputs": [],
   "source": [
    "def removeEnglishLetters(text):        \n",
    "        text = re.sub(r'[a-zA-Z]+', '', text)\n",
    "        return text\n",
    "        # return text.lower()"
   ]
  },
  {
   "cell_type": "code",
   "execution_count": 2076,
   "metadata": {
    "id": "MzLGrUF6hWbg"
   },
   "outputs": [],
   "source": [
    "def my_test_removeEnglishLetters(text):\n",
    "    if len(text) == 0:\n",
    "        return text        \n",
    "    # text_new = re.sub(r'[a-zA-Z]+', '', text)\n",
    "    text_new = re.sub(r'\\s*[A-Za-z]+\\b', '' , text)\n",
    "    text_new = text_new.rstrip()\n",
    "    per_remain = 100*len(text_new)/len(text)\n",
    "    \n",
    "    if per_remain > 55:\n",
    "        return text_new\n",
    "    else:\n",
    "        return text\n",
    "\n",
    "def my2_test_removeEnglishLetters(text):\n",
    "    output = re.sub(r'\\s*[A-Za-z]+\\b', '' , text)\n",
    "    return output.rstrip()\n",
    "\n",
    "def my_arabic(text):\n",
    "    # return re.sub(r\"[^.,&&[\\\\P{InArabic}\\\\p{P}\\\\p{Digit}]]+\", '', text)\n",
    "    return re.sub(r\"[^.,&&[\\\\P{InArabic}\\\\p{P}\\\\p{Digit}]]+\", '', text)\n",
    "\n",
    "def my_punc(text):\n",
    "    # importing a string of punctuation and digits to remove\n",
    "    import string\n",
    "    exclist = string.punctuation + string.digits\n",
    "    # remove punctuations and digits from oldtext\n",
    "    table_ = str.maketrans('', '', exclist)\n",
    "    return text.translate(table_)"
   ]
  },
  {
   "cell_type": "code",
   "execution_count": 2077,
   "metadata": {
    "id": "tipMTAi2hnbJ"
   },
   "outputs": [],
   "source": [
    "# Make sure all the elements are string\n",
    "df_result = data_w_label.applymap(str)\n",
    "\n",
    "# Notice: strip() function will remove leading and trailing whitespaces.\n",
    "df_result['prep23'] = df_result.apply(lambda row: main_contraction(row[\"Text\"]) if row[\"Language\"]==\"English\" else row[\"Text\"], axis=1)\n",
    "df_result['prep4'] = df_result['prep23'].apply(change_punc_space)\n",
    "df_result['prep5'] = df_result['prep4'].apply(to_strip)\n",
    "df_result['prep3'] = df_result['prep5'].apply(remove_number)\n",
    "# df_result['prep8'] = df_result['prep3'].apply(remove_stopwords)\n",
    "df_result['prep9'] = df_result['prep3'].apply(my_remove)\n",
    "df_result['prep18'] = df_result['prep9'].apply(my_arabic)\n",
    "df_result['prep10'] = df_result['prep18'].apply(my_punc)\n",
    "df_result['prep118'] = df_result['prep10'].apply(my_test_removeEnglishLetters)\n",
    "df_result['prep8'] = df_result.apply(lambda row: remove_emoji(row[\"prep118\"]) if row[\"Language\"]==\"English\" else row[\"prep118\"], axis=1)\n",
    "\n",
    "df_result['prep26'] = df_result.apply(lambda row: remove_char(row[\"prep8\"]) if row[\"Language\"]==\"English\" else row[\"prep8\"], axis=1)\n",
    "df_result['prep22'] = df_result.apply(lambda row: to_lower(row[\"prep26\"]) if row[\"Language\"]==\"English\" else row[\"prep26\"], axis=1)\n",
    "df_result['prep25'] = df_result.apply(lambda row: remove_duplicate(row[\"prep22\"]) if row[\"Language\"]==\"English\" else row[\"prep22\"], axis=1)\n",
    "# df_result['prep27'] = df_result.apply(lambda row: lemma(row[\"prep25\"]) if row[\"Language\"]==\"English\" else row[\"prep25\"], axis=1)\n",
    "df_result['prep26'] = df_result.apply(lambda row: other_clean(row[\"prep25\"]) if row[\"Language\"]==\"English\" else row[\"prep25\"], axis=1)\n",
    "\n",
    "df_result['prep28'] = df_result.apply(lambda x: my_test_removeEnglishLetters(x.prep25) if x.Language in ['Russian','Malyalam','Hindi','Kannada','Tamil','Arabic', \"Persian\", \"Urdu\", \"Pushto\", \"Chinese\", \"Korean\", \"Tamil\"]  else x.prep25, axis = 1)\n",
    "# df_result['prep28'] = df_result['prep27'].apply(removeSymbolsAndNumbers)"
   ]
  },
  {
   "cell_type": "code",
   "execution_count": 2078,
   "metadata": {
    "id": "6tf9p5hNhxg6"
   },
   "outputs": [],
   "source": [
    "y = df_result['Language']"
   ]
  },
  {
   "cell_type": "code",
   "execution_count": 2079,
   "metadata": {
    "id": "c5EvXiZoRGRC"
   },
   "outputs": [],
   "source": [
    "# df_result[df_result['Language']==\"Japanese\"].sample(10)"
   ]
  },
  {
   "cell_type": "code",
   "execution_count": 2080,
   "metadata": {
    "id": "fPbkCemS8ybr"
   },
   "outputs": [],
   "source": [
    "# df_result[[\"Language\", 'prep28', 'Text']].sample(10)"
   ]
  },
  {
   "cell_type": "markdown",
   "metadata": {
    "id": "czqIFqT4h9vk"
   },
   "source": [
    "## Making Model (1)"
   ]
  },
  {
   "cell_type": "code",
   "execution_count": 2081,
   "metadata": {
    "id": "-flh-Cobh61Z"
   },
   "outputs": [],
   "source": [
    "x_train, x_test, y_train, y_test = train_test_split(df_result['prep28'], y, random_state=42, test_size=0.30, shuffle=True)"
   ]
  },
  {
   "cell_type": "code",
   "execution_count": 2082,
   "metadata": {
    "id": "cPJsdMQxouWP"
   },
   "outputs": [],
   "source": [
    "# x_train.Language.value_counts()"
   ]
  },
  {
   "cell_type": "code",
   "execution_count": 2083,
   "metadata": {
    "id": "sSRM3-AMowdl"
   },
   "outputs": [],
   "source": [
    "# x_test.Language.value_counts()"
   ]
  },
  {
   "cell_type": "code",
   "execution_count": 2084,
   "metadata": {
    "id": "UColoPcViCBY"
   },
   "outputs": [],
   "source": [
    "vectorizer = TfidfVectorizer(ngram_range=(1, 4), analyzer='char')"
   ]
  },
  {
   "cell_type": "code",
   "execution_count": 2085,
   "metadata": {
    "id": "Dq5jJeUkiGmw"
   },
   "outputs": [],
   "source": [
    "from sklearn import feature_extraction, model_selection, naive_bayes, pipeline, manifold, preprocessing\n",
    "from sklearn.svm import LinearSVC\n",
    "\n",
    "classifier = naive_bayes.MultinomialNB()\n",
    "\n",
    "model = pipeline.Pipeline([\n",
    "    ('vectorizer', vectorizer),\n",
    "    ('clf', LinearSVC())\n",
    "])\n",
    "# ('clf', LogisticRegression())"
   ]
  },
  {
   "cell_type": "code",
   "execution_count": 2086,
   "metadata": {
    "id": "cTjUC7QOiInm"
   },
   "outputs": [
    {
     "data": {
      "text/plain": [
       "Pipeline(steps=[('vectorizer',\n",
       "                 TfidfVectorizer(analyzer='char', ngram_range=(1, 4))),\n",
       "                ('clf', LinearSVC())])"
      ]
     },
     "execution_count": 2086,
     "metadata": {},
     "output_type": "execute_result"
    }
   ],
   "source": [
    "model.fit(x_train, y_train)"
   ]
  },
  {
   "cell_type": "markdown",
   "metadata": {
    "id": "_Oc8Mkf1iQlR"
   },
   "source": [
    "## Checking for Accuracy"
   ]
  },
  {
   "cell_type": "code",
   "execution_count": 2087,
   "metadata": {
    "id": "K3D_1d4biLBV"
   },
   "outputs": [],
   "source": [
    "y_pred = model.predict(x_test)\n",
    "accuracy = accuracy_score(y_test, y_pred)\n",
    "f1_v1 = f1_score(y_test, y_pred, average='macro')\n",
    "f1_v2 = f1_score(y_test, y_pred, average='weighted')\n",
    "f1_v3 = f1_score(y_test, y_pred, average='micro')\n",
    "cm = confusion_matrix(y_test, y_pred)"
   ]
  },
  {
   "cell_type": "code",
   "execution_count": 2088,
   "metadata": {
    "colab": {
     "base_uri": "https://localhost:8080/"
    },
    "id": "oaswW6xhiXOn",
    "outputId": "9921f8ae-0f89-43af-9dbd-59f84594be7e"
   },
   "outputs": [
    {
     "name": "stdout",
     "output_type": "stream",
     "text": [
      "Accuracy is : 0.9868457111537408\n",
      "F1 is : 0.9886685458234281\n",
      "F1 is : 0.9869898299211517\n",
      "F1 is : 0.9868457111537408\n"
     ]
    }
   ],
   "source": [
    "print(\"Accuracy is :\", accuracy)\n",
    "print(\"F1 is :\", f1_v1)\n",
    "print(\"F1 is :\", f1_v2)\n",
    "print(\"F1 is :\", f1_v3)"
   ]
  },
  {
   "cell_type": "code",
   "execution_count": 2089,
   "metadata": {
    "id": "jdvLCvBi_Tgh"
   },
   "outputs": [],
   "source": [
    "dd = pd.DataFrame()\n",
    "dd[\"x_test\"] = x_test\n",
    "dd[\"y_test\"] = y_test\n",
    "dd[\"predict\"] = y_pred"
   ]
  },
  {
   "cell_type": "code",
   "execution_count": 2090,
   "metadata": {
    "colab": {
     "base_uri": "https://localhost:8080/",
     "height": 320
    },
    "id": "CtobzME2BDQu",
    "outputId": "946a351d-8589-47c2-f3ba-c7471f48ae49"
   },
   "outputs": [
    {
     "name": "stdout",
     "output_type": "stream",
     "text": [
      "(10, 3)\n"
     ]
    },
    {
     "data": {
      "text/html": [
       "<div>\n",
       "<style scoped>\n",
       "    .dataframe tbody tr th:only-of-type {\n",
       "        vertical-align: middle;\n",
       "    }\n",
       "\n",
       "    .dataframe tbody tr th {\n",
       "        vertical-align: top;\n",
       "    }\n",
       "\n",
       "    .dataframe thead th {\n",
       "        text-align: right;\n",
       "    }\n",
       "</style>\n",
       "<table border=\"1\" class=\"dataframe\">\n",
       "  <thead>\n",
       "    <tr style=\"text-align: right;\">\n",
       "      <th></th>\n",
       "      <th>x_test</th>\n",
       "      <th>y_test</th>\n",
       "      <th>predict</th>\n",
       "    </tr>\n",
       "  </thead>\n",
       "  <tbody>\n",
       "    <tr>\n",
       "      <th>1227</th>\n",
       "      <td>ho karen disciplining investment bankers disciplining the economy wall street’s institutional culture of crisis and the downsizing of american corporations american anthropologist</td>\n",
       "      <td>Latin</td>\n",
       "      <td>English</td>\n",
       "    </tr>\n",
       "    <tr>\n",
       "      <th>1087</th>\n",
       "      <td>gardner al order paucituberculata in wilson de reeder dm eds mammal species of the world second edition smithsonian institution press washington and london</td>\n",
       "      <td>Latin</td>\n",
       "      <td>English</td>\n",
       "    </tr>\n",
       "    <tr>\n",
       "      <th>16720</th>\n",
       "      <td>davy j i m et d nurse synchronic versions of dahls law the multiple applications of a multiple dissimilation rule journal of african languages and linguistics –</td>\n",
       "      <td>Latin</td>\n",
       "      <td>English</td>\n",
       "    </tr>\n",
       "    <tr>\n",
       "      <th>7703</th>\n",
       "      <td>herren m w the hisperica famina ii related poems a critical edition with english translation and philological commentary toronto pontifical institute of mediaeval studies editio imperfecta</td>\n",
       "      <td>Latin</td>\n",
       "      <td>English</td>\n",
       "    </tr>\n",
       "    <tr>\n",
       "      <th>5359</th>\n",
       "      <td>mccreery c the maple leaf and the white cross a history of st john ambulance and the most venerable order of the hospital of st john of jerusalem in canada anglice</td>\n",
       "      <td>Latin</td>\n",
       "      <td>English</td>\n",
       "    </tr>\n",
       "    <tr>\n",
       "      <th>7228</th>\n",
       "      <td>pollington s leechcraft early english charms plantlore and healing hockwold cum wilton norfolk anglo saxon books editio imperfecta</td>\n",
       "      <td>Latin</td>\n",
       "      <td>English</td>\n",
       "    </tr>\n",
       "    <tr>\n",
       "      <th>12599</th>\n",
       "      <td>todd whitelaw feasts of clay ceramics and feasting at early minoan myrtos fournou korifi in y galanakis t wilkinson j bennet edd aθymata criticalessays on the archaeology of the eastern mediterranean in honour of e susan sherratt oxoniae archaeopress pp w</td>\n",
       "      <td>Latin</td>\n",
       "      <td>English</td>\n",
       "    </tr>\n",
       "    <tr>\n",
       "      <th>16570</th>\n",
       "      <td>hsiao kung chuan a modern china and a new world k ang yu wei reformer and utopian seattli et londinii university of washington press</td>\n",
       "      <td>Latin</td>\n",
       "      <td>English</td>\n",
       "    </tr>\n",
       "    <tr>\n",
       "      <th>18911</th>\n",
       "      <td>allitt john stewart donizetti—in the light of romanticism and the teaching of johann simon mayr shaftesbury dorset uk element books</td>\n",
       "      <td>Latin</td>\n",
       "      <td>English</td>\n",
       "    </tr>\n",
       "    <tr>\n",
       "      <th>4456</th>\n",
       "      <td>meaney a l variant versions of old english medical remedies and the compilation of balds leechbook anglo saxon england pp –</td>\n",
       "      <td>Latin</td>\n",
       "      <td>English</td>\n",
       "    </tr>\n",
       "  </tbody>\n",
       "</table>\n",
       "</div>"
      ],
      "text/plain": [
       "                                                                                                                                                                                                                                                                x_test  \\\n",
       "1227                                                                               ho karen disciplining investment bankers disciplining the economy wall street’s institutional culture of crisis and the downsizing of american corporations american anthropologist   \n",
       "1087                                                                                                       gardner al order paucituberculata in wilson de reeder dm eds mammal species of the world second edition smithsonian institution press washington and london   \n",
       "16720                                                                                                 davy j i m et d nurse synchronic versions of dahls law the multiple applications of a multiple dissimilation rule journal of african languages and linguistics –   \n",
       "7703                                                                      herren m w the hisperica famina ii related poems a critical edition with english translation and philological commentary toronto pontifical institute of mediaeval studies editio imperfecta   \n",
       "5359                                                                                               mccreery c the maple leaf and the white cross a history of st john ambulance and the most venerable order of the hospital of st john of jerusalem in canada anglice   \n",
       "7228                                                                                                                                pollington s leechcraft early english charms plantlore and healing hockwold cum wilton norfolk anglo saxon books editio imperfecta   \n",
       "12599  todd whitelaw feasts of clay ceramics and feasting at early minoan myrtos fournou korifi in y galanakis t wilkinson j bennet edd aθymata criticalessays on the archaeology of the eastern mediterranean in honour of e susan sherratt oxoniae archaeopress pp w   \n",
       "16570                                                                                                                             hsiao kung chuan a modern china and a new world k ang yu wei reformer and utopian seattli et londinii university of washington press   \n",
       "18911                                                                                                                              allitt john stewart donizetti—in the light of romanticism and the teaching of johann simon mayr shaftesbury dorset uk element books   \n",
       "4456                                                                                                                                       meaney a l variant versions of old english medical remedies and the compilation of balds leechbook anglo saxon england pp –   \n",
       "\n",
       "      y_test  predict  \n",
       "1227   Latin  English  \n",
       "1087   Latin  English  \n",
       "16720  Latin  English  \n",
       "7703   Latin  English  \n",
       "5359   Latin  English  \n",
       "7228   Latin  English  \n",
       "12599  Latin  English  \n",
       "16570  Latin  English  \n",
       "18911  Latin  English  \n",
       "4456   Latin  English  "
      ]
     },
     "execution_count": 2090,
     "metadata": {},
     "output_type": "execute_result"
    }
   ],
   "source": [
    "jj = dd[dd[\"y_test\"] != dd[\"predict\"]]\n",
    "ffj = jj[(jj[\"predict\"]==\"English\")&(jj[\"y_test\"]==\"Latin\")]\n",
    "print(ffj.shape)\n",
    "ffj"
   ]
  },
  {
   "cell_type": "code",
   "execution_count": 2091,
   "metadata": {
    "colab": {
     "base_uri": "https://localhost:8080/"
    },
    "id": "oldiH4UviXMH",
    "outputId": "b8a8dc2c-6905-482f-cb30-89daa3fff007"
   },
   "outputs": [
    {
     "name": "stdout",
     "output_type": "stream",
     "text": [
      "              precision    recall  f1-score   support\n",
      "\n",
      "      Arabic       1.00      1.00      1.00       341\n",
      "     Chinese       0.98      0.98      0.98       239\n",
      "      Danish       0.99      0.99      0.99        99\n",
      "       Dutch       0.99      0.98      0.99       385\n",
      "     English       0.90      1.00      0.95       527\n",
      "    Estonian       1.00      0.97      0.98       241\n",
      "      French       0.99      0.99      0.99       470\n",
      "      German       0.97      0.99      0.98       115\n",
      "       Greek       1.00      1.00      1.00        88\n",
      "       Hindi       1.00      0.98      0.99       254\n",
      "  Indonesian       0.99      0.99      0.99       236\n",
      "     Italian       0.98      0.98      0.98       170\n",
      "    Japanese       1.00      0.99      1.00       239\n",
      "     Kannada       1.00      1.00      1.00       106\n",
      "      Korean       1.00      0.98      0.99       257\n",
      "       Latin       0.98      0.95      0.96       240\n",
      "   Malayalam       1.00      1.00      1.00       143\n",
      "     Persian       1.00      1.00      1.00       262\n",
      "   Portugese       1.00      0.98      0.99       242\n",
      "      Pushto       1.00      0.96      0.98       217\n",
      "    Romanian       1.00      0.98      0.99       241\n",
      "     Russian       1.00      0.99      1.00       404\n",
      "     Spanish       0.99      0.98      0.98       420\n",
      "     Swedish       1.00      1.00      1.00       229\n",
      "       Tamil       1.00      0.99      1.00       330\n",
      "        Thai       1.00      0.99      0.99       230\n",
      "     Turkish       1.00      0.98      0.99       342\n",
      "        Urdu       1.00      1.00      1.00       231\n",
      "\n",
      "    accuracy                           0.99      7298\n",
      "   macro avg       0.99      0.99      0.99      7298\n",
      "weighted avg       0.99      0.99      0.99      7298\n",
      "\n"
     ]
    }
   ],
   "source": [
    "print(classification_report(y_test, y_pred))"
   ]
  },
  {
   "cell_type": "code",
   "execution_count": null,
   "metadata": {},
   "outputs": [],
   "source": []
  },
  {
   "cell_type": "code",
   "execution_count": 2092,
   "metadata": {},
   "outputs": [
    {
     "data": {
      "image/png": "[encoded data removed]",
      "text/plain": [
       "<Figure size 576x576 with 2 Axes>"
      ]
     },
     "metadata": {
      "needs_background": "light"
     },
     "output_type": "display_data"
    }
   ],
   "source": [
    "conf_mat = confusion_matrix(y_test, y_pred)\n",
    "fig, ax = plt.subplots(figsize=(8,8))\n",
    "sns.heatmap(conf_mat, annot=True, cmap=\"Blues\", fmt='d',\n",
    "            xticklabels=np.unique(df_result.Language.values), \n",
    "            yticklabels=np.unique(df_result.Language.values))\n",
    "plt.ylabel('Actual')\n",
    "plt.xlabel('Predicted')\n",
    "plt.title(\"CONFUSION MATRIX - LinearSVC\\n\", size=16);"
   ]
  },
  {
   "cell_type": "code",
   "execution_count": 2093,
   "metadata": {
    "colab": {
     "base_uri": "https://localhost:8080/",
     "height": 592
    },
    "id": "ggZwX9rOiXJf",
    "outputId": "e7e1b7e6-ab9a-494e-8011-63f2e50e9893"
   },
   "outputs": [],
   "source": [
    "# plt.figure(figsize=(15,10))\n",
    "# sns.heatmap(cm, annot = True)\n",
    "# plt.show()"
   ]
  },
  {
   "cell_type": "code",
   "execution_count": 2094,
   "metadata": {
    "id": "Pd_yTP1arJXS"
   },
   "outputs": [],
   "source": [
    "# Make sure all the elements are string\n",
    "df_result_2 = data_wo_label.applymap(str)\n",
    "\n",
    "# Notice: strip() function will remove leading and trailing whitespaces.\n",
    "# df_result_2['prep23'] = df_result_2.apply(lambda row: main_contraction(row[\"Text\"]) if row[\"Language\"]==\"English\" else row[\"Text\"], axis=1)\n",
    "df_result_2['prep4'] = df_result_2['Text'].apply(change_punc_space)\n",
    "df_result_2['prep5'] = df_result_2['prep4'].apply(to_strip)\n",
    "df_result_2['prep3'] = df_result_2['prep5'].apply(remove_number)\n",
    "df_result_2['prep8'] = df_result_2['prep3'].apply(remove_stopwords)\n",
    "df_result_2['prep9'] = df_result_2['prep8'].apply(my_remove)\n",
    "df_result_2['prep18'] = df_result_2['prep9'].apply(my_arabic)\n",
    "# df_result_2['prep10'] = df_result_2['prep8'].apply(my_punc)\n",
    "df_result_2['prep28'] = df_result_2['prep18'].apply(my_test_removeEnglishLetters)\n",
    "# df_result['prep8'] = df_result_2.apply(lambda row: remove_emoji(row[\"prep118\"]) if row[\"Language\"]==\"English\" else row[\"prep118\"], axis=1)\n",
    "\n",
    "# df_result['prep26'] = df_result.apply(lambda row: remove_char(row[\"prep8\"]) if row[\"Language\"]==\"English\" else row[\"prep8\"], axis=1)\n",
    "# df_result['prep22'] = df_result.apply(lambda row: to_lower(row[\"prep26\"]) if row[\"Language\"]==\"English\" else row[\"prep26\"], axis=1)\n",
    "# df_result['prep25'] = df_result.apply(lambda row: remove_duplicate(row[\"prep22\"]) if row[\"Language\"]==\"English\" else row[\"prep22\"], axis=1)\n",
    "# df_result['prep27'] = df_result.apply(lambda row: lemma(row[\"prep25\"]) if row[\"Language\"]==\"English\" else row[\"prep25\"], axis=1)\n",
    "# df_result['prep26'] = df_result.apply(lambda row: other_clean(row[\"prep27\"]) if row[\"Language\"]==\"English\" else row[\"prep27\"], axis=1)\n",
    "\n",
    "# df_result['prep27'] = df_result.apply(lambda x: my_test_removeEnglishLetters(x.prep26) if x.Language in ['Russian','Malyalam','Hindi','Kannada','Tamil','Arabic', \"Persian\", \"Urdu\", \"Pushto\", \"Chinese\", \"Korean\", \"Tamil\"]  else x.prep26, axis = 1)\n",
    "# df_result_2['prep28'] = df_result_2['prep118'].apply(removeSymbolsAndNumbers)"
   ]
  },
  {
   "cell_type": "code",
   "execution_count": 2096,
   "metadata": {
    "id": "j3xw1ggnrGAU"
   },
   "outputs": [],
   "source": [
    "y_pred_unseen = model.predict(df_result_2['prep28'])"
   ]
  },
  {
   "cell_type": "code",
   "execution_count": null,
   "metadata": {
    "id": "k-HCrhPGtwHk"
   },
   "outputs": [],
   "source": [
    "hh = data_set[data_set.Language.isnull()]\n"
   ]
  },
  {
   "cell_type": "code",
   "execution_count": null,
   "metadata": {
    "id": "9odPOSUrhpTx"
   },
   "outputs": [],
   "source": [
    "# hh.sample(20)\n",
    "df_result_2['predict_new'] = y_pred_unseen\n",
    "df_result_2[[\"prep10\", \"predict_new\"]].head()"
   ]
  },
  {
   "cell_type": "code",
   "execution_count": null,
   "metadata": {
    "id": "e_sRTHwehpW8"
   },
   "outputs": [],
   "source": [
    "# df_result_2[['Text', 'prep28', \"Language\"]].sample(20)"
   ]
  },
  {
   "cell_type": "code",
   "execution_count": null,
   "metadata": {
    "id": "UVWjq5O1hpbD"
   },
   "outputs": [],
   "source": [
    "# января cómo te va\n"
   ]
  },
  {
   "cell_type": "code",
   "execution_count": 2097,
   "metadata": {
    "id": "_7J6SBr5twMK"
   },
   "outputs": [],
   "source": [
    "data_set.loc[data_set.Language.isnull(), 'Language'] = y_pred_unseen"
   ]
  },
  {
   "cell_type": "code",
   "execution_count": 2098,
   "metadata": {
    "id": "homrxYyxtwOP"
   },
   "outputs": [],
   "source": [
    "data_set.to_csv(\"Ch1-best.csv\")"
   ]
  }
 ],
 "metadata": {
  "colab": {
   "collapsed_sections": [],
   "provenance": []
  },
  "kernelspec": {
   "display_name": "Python 3 (ipykernel)",
   "language": "python",
   "name": "python3"
  },
  "language_info": {
   "codemirror_mode": {
    "name": "ipython",
    "version": 3
   },
   "file_extension": ".py",
   "mimetype": "text/x-python",
   "name": "python",
   "nbconvert_exporter": "python",
   "pygments_lexer": "ipython3",
   "version": "3.9.12"
  }
 },
 "nbformat": 4,
 "nbformat_minor": 4
}
